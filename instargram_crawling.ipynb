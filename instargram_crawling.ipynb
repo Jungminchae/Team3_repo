{
 "cells": [
  {
   "cell_type": "code",
   "execution_count": 1,
   "metadata": {},
   "outputs": [],
   "source": [
    "from insta_crawler import *"
   ]
  },
  {
   "cell_type": "code",
   "execution_count": 2,
   "metadata": {},
   "outputs": [],
   "source": [
    "import os\n",
    "\n",
    "wd_path = os.getenv('HOME')+'/aiffel/lib/chromedriver'"
   ]
  },
  {
   "cell_type": "code",
   "execution_count": 11,
   "metadata": {},
   "outputs": [],
   "source": [
    "get_class = Insta_img_crawler('모두연', wd_path)"
   ]
  },
  {
   "cell_type": "code",
   "execution_count": 12,
   "metadata": {},
   "outputs": [],
   "source": [
    "get_class.URL_open()"
   ]
  },
  {
   "cell_type": "code",
   "execution_count": 14,
   "metadata": {},
   "outputs": [],
   "source": [
    "get_class.page_down(page_down_num=5)"
   ]
  },
  {
   "cell_type": "code",
   "execution_count": 15,
   "metadata": {},
   "outputs": [
    {
     "name": "stdout",
     "output_type": "stream",
     "text": [
      "https://www.instagram.com/p/B5xGX_LFHfs/\n",
      "https://scontent-ssn1-1.cdninstagram.com/v/t51.2885-15/sh0.08/e35/c2.0.1436.1436a/s640x640/75379860_852563928479754_6499864752311390588_n.jpg?_nc_ht=scontent-ssn1-1.cdninstagram.com&_nc_cat=106&_nc_ohc=H_7SG3Q0xfcAX_dHPuG&oh=97c8a1153f74de07c070231dda582436&oe=5F6AD841\n",
      "\n",
      "https://www.instagram.com/p/CCVzTqQDOe1/\n",
      "https://scontent-ssn1-1.cdninstagram.com/v/t51.2885-15/sh0.08/e35/c0.180.1440.1440a/s640x640/106462842_299387414590033_2644052806519719927_n.jpg?_nc_ht=scontent-ssn1-1.cdninstagram.com&_nc_cat=101&_nc_ohc=xMwHwWlPc9QAX9O9-zv&oh=dad68f051321580a532c090a24ab8d64&oe=5F695AD7\n",
      "\n",
      "https://www.instagram.com/p/CDtapybFWJE/\n",
      "https://scontent-ssn1-1.cdninstagram.com/v/t51.2885-15/sh0.08/e35/s640x640/117308281_583058892370621_1121089846696737415_n.jpg?_nc_ht=scontent-ssn1-1.cdninstagram.com&_nc_cat=101&_nc_ohc=1D7Yx-VXELoAX8WlRYm&oh=29e9157414ef4ebbfeb2160efeb9751d&oe=5F696F33\n",
      "\n",
      "https://www.instagram.com/p/B26ZFXznpoE/\n",
      "https://scontent-ssn1-1.cdninstagram.com/v/t51.2885-15/e35/69515470_156336795567788_5150844838788013342_n.jpg?_nc_ht=scontent-ssn1-1.cdninstagram.com&_nc_cat=108&_nc_ohc=xEOWJP4JI-kAX9oqzqk&oh=241001c8a7812c3d056b14cf49dce994&oe=5F42C382\n",
      "\n",
      "https://www.instagram.com/p/BfcQ88Uj4-P/\n",
      "https://scontent-ssn1-1.cdninstagram.com/v/t51.2885-15/e15/s640x640/27892799_335990393564353_3940155061220409344_n.jpg?_nc_ht=scontent-ssn1-1.cdninstagram.com&_nc_cat=101&_nc_ohc=kWIk_Z65-b0AX_E-ltR&oh=a164df68ee77799ad4e76a55178aca5e&oe=5F4355E2\n",
      "\n",
      "https://www.instagram.com/p/CDNCMXnlxpZ/\n",
      "https://scontent-ssn1-1.cdninstagram.com/v/t51.2885-15/sh0.08/e35/s640x640/115909841_594735101233104_2563567931645230778_n.jpg?_nc_ht=scontent-ssn1-1.cdninstagram.com&_nc_cat=100&_nc_ohc=1wiV7vTByC0AX9B-Vde&oh=9f379ce3d513d47bfb9d867ee6409a92&oe=5F69DB62\n",
      "\n",
      "https://www.instagram.com/p/CDNCEuDFl1d/\n",
      "https://scontent-ssn1-1.cdninstagram.com/v/t51.2885-15/sh0.08/e35/c0.0.664.664a/s640x640/116188981_289304685654249_4592411078651295179_n.jpg?_nc_ht=scontent-ssn1-1.cdninstagram.com&_nc_cat=109&_nc_ohc=Bx7qhNEN8T8AX9nyj3X&oh=ccba50e50784046745d7de23c7ee0787&oe=5F6ACE63\n",
      "\n",
      "https://www.instagram.com/p/CDNC3I_lw59/\n",
      "https://scontent-ssn1-1.cdninstagram.com/v/t51.2885-15/sh0.08/e35/c0.0.878.878a/s640x640/116065637_776140799796327_2853129724641991302_n.jpg?_nc_ht=scontent-ssn1-1.cdninstagram.com&_nc_cat=103&_nc_ohc=5ppR_NcyRJkAX_E2InY&oh=d7f2c668d3ac01c94497293f611b2e98&oe=5F6A049A\n",
      "\n",
      "https://www.instagram.com/p/BnM19DxgrXH/\n",
      "https://scontent-ssn1-1.cdninstagram.com/v/t51.2885-15/sh0.08/e35/c135.0.810.810a/s640x640/39956000_688156408220406_3540809775132442624_n.jpg?_nc_ht=scontent-ssn1-1.cdninstagram.com&_nc_cat=106&_nc_ohc=z34FAjQw-JgAX9Ed3KS&oh=d1469ec336ba8ee3799ec2812b5827d1&oe=5F6AF4A8\n",
      "\n",
      "https://www.instagram.com/p/CDSa5oujzk4/\n",
      "https://scontent-ssn1-1.cdninstagram.com/v/t51.2885-15/sh0.08/e35/s640x640/116337085_3146172282145911_5673837319757700771_n.jpg?_nc_ht=scontent-ssn1-1.cdninstagram.com&_nc_cat=103&_nc_ohc=RDF975shYxoAX84jl_7&oh=1eaa740671d6f90e2be0ed162040ddf3&oe=5F6B62AD\n",
      "\n",
      "https://www.instagram.com/p/CDNCs3KlkY4/\n",
      "https://scontent-ssn1-1.cdninstagram.com/v/t51.2885-15/sh0.08/e35/s640x640/116123503_740361916818380_8161886367668473806_n.jpg?_nc_ht=scontent-ssn1-1.cdninstagram.com&_nc_cat=108&_nc_ohc=RmvCGkCut98AX98RKzU&oh=266a013fcdc4a9b226eb8aed6e4bd5e5&oe=5F6BA8B6\n",
      "\n",
      "https://www.instagram.com/p/CDNCkiBlasC/\n",
      "https://scontent-ssn1-1.cdninstagram.com/v/t51.2885-15/sh0.08/e35/s640x640/116019143_567093253935131_8923730306614732349_n.jpg?_nc_ht=scontent-ssn1-1.cdninstagram.com&_nc_cat=111&_nc_ohc=KVXWz56wW44AX8-9e98&oh=9bd05a5a9566da484e3cd411d176ff87&oe=5F687B2B\n",
      "\n",
      "https://www.instagram.com/p/CDNCTR0loJ0/\n",
      "https://scontent-ssn1-1.cdninstagram.com/v/t51.2885-15/sh0.08/e35/s640x640/115880858_3120775764704680_2902155952594781058_n.jpg?_nc_ht=scontent-ssn1-1.cdninstagram.com&_nc_cat=104&_nc_ohc=Owh7FZeGByUAX9M4_hm&oh=fca491e3528937aafe9576e740cb485a&oe=5F6A7020\n",
      "\n",
      "https://www.instagram.com/p/B26ZM0KHqXa/\n",
      "https://scontent-ssn1-1.cdninstagram.com/v/t51.2885-15/e35/69408539_480418395875663_4149448282103710549_n.jpg?_nc_ht=scontent-ssn1-1.cdninstagram.com&_nc_cat=111&_nc_ohc=a3d-3t9coN4AX-WUV4o&oh=f15a0f6437adeaa66a1544ccc4c96f67&oe=5F42C081\n",
      "\n",
      "https://www.instagram.com/p/B26XfJugS-q/\n",
      "https://scontent-ssn1-1.cdninstagram.com/v/t51.2885-15/sh0.08/e35/s640x640/69517168_2511714992237996_4143699566084647540_n.jpg?_nc_ht=scontent-ssn1-1.cdninstagram.com&_nc_cat=108&_nc_ohc=89FQgbRjfGwAX_KrV6q&oh=3f4dd8b373a8bda70f2b163b32ca6e1e&oe=5F4339E2\n",
      "\n",
      "https://www.instagram.com/p/BwmaEWAnegu/\n",
      "https://scontent-ssn1-1.cdninstagram.com/v/t51.2885-15/e15/s640x640/56686102_2314579402147374_1151207654193700950_n.jpg?_nc_ht=scontent-ssn1-1.cdninstagram.com&_nc_cat=106&_nc_ohc=qoHKCoIlqTMAX-BJO73&oh=573075f05c2bca6d6223de336d9ace4e&oe=5F42D809\n",
      "\n",
      "https://www.instagram.com/p/Bu80whoA6e1/\n",
      "https://scontent-ssn1-1.cdninstagram.com/v/t51.2885-15/sh0.08/e35/s640x640/52875567_1739315249501871_320046904791918006_n.jpg?_nc_ht=scontent-ssn1-1.cdninstagram.com&_nc_cat=103&_nc_ohc=npzoqBeTBr8AX-kGmGh&oh=ab51d290f6cbfa0e35109e9413c28aec&oe=5F6C1960\n",
      "\n",
      "https://www.instagram.com/p/BlAiLAunFrQ/\n",
      "https://scontent-ssn1-1.cdninstagram.com/v/t51.2885-15/sh0.08/e35/s640x640/35534218_1799279920125534_1988122270916149248_n.jpg?_nc_ht=scontent-ssn1-1.cdninstagram.com&_nc_cat=106&_nc_ohc=LYU3jp4YtCIAX9xPDiq&oh=fcd8b8101d704932cd05d1c1b5c258ea&oe=5F6A9528\n",
      "\n"
     ]
    },
    {
     "ename": "NameError",
     "evalue": "name 'driver' is not defined",
     "output_type": "error",
     "traceback": [
      "\u001b[0;31m---------------------------------------------------------------------------\u001b[0m",
      "\u001b[0;31mNameError\u001b[0m                                 Traceback (most recent call last)",
      "\u001b[0;32m<ipython-input-15-15e2275d5d91>\u001b[0m in \u001b[0;36m<module>\u001b[0;34m\u001b[0m\n\u001b[0;32m----> 1\u001b[0;31m \u001b[0mget_class\u001b[0m\u001b[0;34m.\u001b[0m\u001b[0mstart_crawling\u001b[0m\u001b[0;34m(\u001b[0m\u001b[0;34m)\u001b[0m\u001b[0;34m\u001b[0m\u001b[0;34m\u001b[0m\u001b[0m\n\u001b[0m",
      "\u001b[0;32m~/Team3_repo/insta_crawler.py\u001b[0m in \u001b[0;36mstart_crawling\u001b[0;34m(self)\u001b[0m\n\u001b[1;32m     39\u001b[0m             \u001b[0mprint\u001b[0m\u001b[0;34m(\u001b[0m\u001b[0;34m)\u001b[0m\u001b[0;34m\u001b[0m\u001b[0;34m\u001b[0m\u001b[0m\n\u001b[1;32m     40\u001b[0m \u001b[0;34m\u001b[0m\u001b[0m\n\u001b[0;32m---> 41\u001b[0;31m         \u001b[0mdriver\u001b[0m\u001b[0;34m.\u001b[0m\u001b[0mclose\u001b[0m\u001b[0;34m(\u001b[0m\u001b[0;34m)\u001b[0m\u001b[0;34m\u001b[0m\u001b[0;34m\u001b[0m\u001b[0m\n\u001b[0m",
      "\u001b[0;31mNameError\u001b[0m: name 'driver' is not defined"
     ]
    }
   ],
   "source": [
    "get_class.start_crawling()"
   ]
  },
  {
   "cell_type": "code",
   "execution_count": null,
   "metadata": {},
   "outputs": [],
   "source": []
  }
 ],
 "metadata": {
  "kernelspec": {
   "display_name": "aiffel",
   "language": "python",
   "name": "aiffel"
  },
  "language_info": {
   "codemirror_mode": {
    "name": "ipython",
    "version": 3
   },
   "file_extension": ".py",
   "mimetype": "text/x-python",
   "name": "python",
   "nbconvert_exporter": "python",
   "pygments_lexer": "ipython3",
   "version": "3.7.6"
  }
 },
 "nbformat": 4,
 "nbformat_minor": 4
}
