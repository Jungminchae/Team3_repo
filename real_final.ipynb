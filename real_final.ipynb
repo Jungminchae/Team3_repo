{
 "cells": [
  {
   "cell_type": "code",
   "execution_count": 33,
   "metadata": {},
   "outputs": [],
   "source": [
    "import os\n",
    "import shutil\n",
    "from glob import glob\n",
    "from PIL import Image\n",
    "\n",
    "import tensorflow as tf\n",
    "import numpy as np\n",
    "from tqdm import tqdm"
   ]
  },
  {
   "cell_type": "code",
   "execution_count": 15,
   "metadata": {},
   "outputs": [],
   "source": [
    "main_classes = glob('../kfood/적/*/*')"
   ]
  },
  {
   "cell_type": "code",
   "execution_count": 16,
   "metadata": {},
   "outputs": [
    {
     "data": {
      "text/plain": [
       "1097"
      ]
     },
     "execution_count": 16,
     "metadata": {},
     "output_type": "execute_result"
    }
   ],
   "source": [
    "len(main_classes)"
   ]
  },
  {
   "cell_type": "code",
   "execution_count": 18,
   "metadata": {},
   "outputs": [
    {
     "data": {
      "text/plain": [
       "'../kfood/적/떡꼬치/Img_096_0157.jpg'"
      ]
     },
     "execution_count": 18,
     "metadata": {},
     "output_type": "execute_result"
    }
   ],
   "source": [
    "main_classes[0]"
   ]
  },
  {
   "cell_type": "code",
   "execution_count": null,
   "metadata": {},
   "outputs": [],
   "source": []
  },
  {
   "cell_type": "code",
   "execution_count": null,
   "metadata": {},
   "outputs": [],
   "source": [
    "os.listdir()"
   ]
  },
  {
   "cell_type": "code",
   "execution_count": null,
   "metadata": {},
   "outputs": [],
   "source": [
    "# 물냉면을 예로 들었을 때\n",
    "class_paths = glob('/content/drive/My Drive/data/kfood/물냉면/*')"
   ]
  },
  {
   "cell_type": "code",
   "execution_count": null,
   "metadata": {},
   "outputs": [],
   "source": [
    "def ret_img_path(all_paths, fname) :\n",
    "    for path in all_paths :\n",
    "        if fname in path:\n",
    "            return path"
   ]
  },
  {
   "cell_type": "code",
   "execution_count": null,
   "metadata": {},
   "outputs": [],
   "source": [
    "class_paths[0].split('/')[-1]"
   ]
  },
  {
   "cell_type": "code",
   "execution_count": 42,
   "metadata": {},
   "outputs": [],
   "source": [
    "def ret_img_path(all_paths, fname) :\n",
    "    for path in all_paths :\n",
    "        if fname in path:\n",
    "            return path"
   ]
  },
  {
   "cell_type": "markdown",
   "metadata": {},
   "source": [
    "Img_032_0014.jpg => 무생채"
   ]
  },
  {
   "cell_type": "code",
   "execution_count": 82,
   "metadata": {},
   "outputs": [
    {
     "data": {
      "text/plain": [
       "'../kfood/김치/총각김치/Img_038_0932.JPG'"
      ]
     },
     "execution_count": 82,
     "metadata": {},
     "output_type": "execute_result"
    }
   ],
   "source": [
    "path_dict['김치'][0]"
   ]
  },
  {
   "cell_type": "code",
   "execution_count": 83,
   "metadata": {},
   "outputs": [
    {
     "data": {
      "text/plain": [
       "'../kfood/김치/무생채/Img_032_0014.jpg'"
      ]
     },
     "execution_count": 83,
     "metadata": {},
     "output_type": "execute_result"
    }
   ],
   "source": [
    "ret_img_path(path_dict['김치'], 'Img_032_0014')"
   ]
  },
  {
   "cell_type": "code",
   "execution_count": 114,
   "metadata": {},
   "outputs": [],
   "source": [
    "def cropping(class_paths, main_class):\n",
    "    # 결과물은 새로운 폴더에 저장\n",
    "    # 클래스명을 활용해서 cropped_'class'폴더 생성\n",
    "    save_dir_path = '../test/cropped_kfood/' + main_class +'/'\n",
    "    \n",
    "    if not os.path.exists(save_dir_path):\n",
    "        os.makedirs(save_dir_path)\n",
    "        print(\"main 디렉토리 생성 : \", save_dir_path)\n",
    "\n",
    "    # crop_area path 저장\n",
    "    print(\"crop_area 파일 수집중\")\n",
    "    for path in class_paths :\n",
    "        if 'crop_area' in path :\n",
    "            crop_path = path\n",
    "            break\n",
    "\n",
    "    # crop_area파일 읽기\n",
    "        \n",
    "    f = open(crop_path, 'r')\n",
    "    data = f.read()\n",
    "    f.close()\n",
    "\n",
    "    crop_infos = data.split('\\n')\n",
    "    cropped_fname = []\n",
    "\n",
    "    # crop에 대한 정보가 있는 파일들은 crop을 하고,\n",
    "    # 앞에서 새로 만든 cropped_classname 디렉터리에 저장\n",
    "    print(\"crop 시작\")\n",
    "    for crop_info in tqdm(crop_infos) :\n",
    "\n",
    "        fname = crop_info.split('=')[0]\n",
    "        try :\n",
    "            x, y, w, h = list(map(int, crop_info.split('=')[-1].split(',')))\n",
    "        except :\n",
    "            continue\n",
    "\n",
    "        img_path = ret_img_path(class_paths, fname)\n",
    "\n",
    "        try :\n",
    "            image = Image.open(img_path)\n",
    "            class_name = img_path.split('/')[-2]\n",
    "        except :\n",
    "            continue\n",
    "\n",
    "\n",
    "#             print(class_name)\n",
    "        image = image.convert(\"RGB\")\n",
    "        cropped_img = image.crop((x, y, x+w, y+h))\n",
    "        img_save_path = save_dir_path + class_name + '/'\n",
    "        if not os.path.exists(img_save_path) :\n",
    "            os.makedirs(img_save_path)\n",
    "            print(\"sub 디렉토리 생성 : \", img_save_path)\n",
    "#             print(img_save_path + 'cropped_' + fname + '.jpg')\n",
    "        cropped_img.save(img_save_path + 'cropped_' + fname + '.jpg')\n",
    "        cropped_fname.append(fname)\n",
    "    print(\"crop 끝\")\n",
    "\n",
    "    print(\"\\n\\ncrop을 하지 않은 이미지를 복사 중입니다.\")\n",
    "    print(\"잠시만 기다려 주세요\")\n",
    "    # crop이 필요없는 image들의 경우..\n",
    "    # crop 경로에 똑같이 복사를 해준다\n",
    "    for path in tqdm(class_paths):\n",
    "        fname = path.split('/')[-1].split('.')[0]\n",
    "        if fname not in cropped_fname and 'csv' not in path and 'properties' not in path:\n",
    "            shutil.copy(path, img_save_path)"
   ]
  },
  {
   "cell_type": "code",
   "execution_count": 103,
   "metadata": {},
   "outputs": [],
   "source": [
    "classes = os.listdir('../kfood/')"
   ]
  },
  {
   "cell_type": "code",
   "execution_count": 29,
   "metadata": {},
   "outputs": [
    {
     "data": {
      "text/plain": [
       "27"
      ]
     },
     "execution_count": 29,
     "metadata": {},
     "output_type": "execute_result"
    }
   ],
   "source": [
    "len(classes)"
   ]
  },
  {
   "cell_type": "code",
   "execution_count": 22,
   "metadata": {},
   "outputs": [
    {
     "data": {
      "text/plain": [
       "(150910, '../kfood/김치/총각김치/Img_038_0932.JPG')"
      ]
     },
     "execution_count": 22,
     "metadata": {},
     "output_type": "execute_result"
    }
   ],
   "source": [
    "len(total_paths), total_paths[0]"
   ]
  },
  {
   "cell_type": "code",
   "execution_count": 26,
   "metadata": {},
   "outputs": [],
   "source": [
    "path_dict = {}"
   ]
  },
  {
   "cell_type": "code",
   "execution_count": 96,
   "metadata": {},
   "outputs": [
    {
     "name": "stderr",
     "output_type": "stream",
     "text": [
      "100%|██████████| 27/27 [00:00<00:00, 121.41it/s]\n"
     ]
    }
   ],
   "source": [
    "for mc in tqdm(classes):\n",
    "    tmp = {}\n",
    "    t = '../kfood/' + mc + '/'\n",
    "    sub_classes = os.listdir(t)\n",
    "    for sc in sub_classes:\n",
    "        tmp[sc] = glob(t+sc+'/*')\n",
    "    path_dict[mc] = tmp"
   ]
  },
  {
   "cell_type": "code",
   "execution_count": 98,
   "metadata": {},
   "outputs": [
    {
     "data": {
      "text/plain": [
       "'../kfood/김치/총각김치/Img_038_0932.JPG'"
      ]
     },
     "execution_count": 98,
     "metadata": {},
     "output_type": "execute_result"
    }
   ],
   "source": [
    "path_dict['김치']['총각김치'][0]"
   ]
  },
  {
   "cell_type": "code",
   "execution_count": 40,
   "metadata": {},
   "outputs": [
    {
     "data": {
      "text/plain": [
       "27"
      ]
     },
     "execution_count": 40,
     "metadata": {},
     "output_type": "execute_result"
    }
   ],
   "source": [
    "len(path_dict)"
   ]
  },
  {
   "cell_type": "code",
   "execution_count": 80,
   "metadata": {},
   "outputs": [
    {
     "data": {
      "text/plain": [
       "11022"
      ]
     },
     "execution_count": 80,
     "metadata": {},
     "output_type": "execute_result"
    }
   ],
   "source": [
    "len(path_dict['김치'])"
   ]
  },
  {
   "cell_type": "code",
   "execution_count": 115,
   "metadata": {},
   "outputs": [
    {
     "name": "stderr",
     "output_type": "stream",
     "text": [
      " 10%|▉         | 14/143 [00:00<00:00, 129.96it/s]"
     ]
    },
    {
     "name": "stdout",
     "output_type": "stream",
     "text": [
      "------------------------------\n",
      "김치처리중\n",
      "crop_area 파일 수집중\n",
      "crop 시작\n",
      "sub 디렉토리 생성 :  ../test/cropped_kfood/김치/총각김치/\n"
     ]
    },
    {
     "name": "stderr",
     "output_type": "stream",
     "text": [
      "100%|██████████| 143/143 [00:00<00:00, 174.01it/s]\n",
      " 21%|██        | 206/1002 [00:00<00:00, 2054.38it/s]"
     ]
    },
    {
     "name": "stdout",
     "output_type": "stream",
     "text": [
      "crop 끝\n",
      "\n",
      "\n",
      "crop을 하지 않은 이미지를 복사 중입니다.\n",
      "잠시만 기다려 주세요\n"
     ]
    },
    {
     "name": "stderr",
     "output_type": "stream",
     "text": [
      "100%|██████████| 1002/1002 [00:00<00:00, 1926.68it/s]\n",
      " 16%|█▌        | 10/63 [00:00<00:00, 94.28it/s]"
     ]
    },
    {
     "name": "stdout",
     "output_type": "stream",
     "text": [
      "crop_area 파일 수집중\n",
      "crop 시작\n",
      "sub 디렉토리 생성 :  ../test/cropped_kfood/김치/오이소박이/\n"
     ]
    },
    {
     "name": "stderr",
     "output_type": "stream",
     "text": [
      "100%|██████████| 63/63 [00:00<00:00, 146.56it/s]\n",
      " 23%|██▎       | 235/1002 [00:00<00:00, 2341.32it/s]"
     ]
    },
    {
     "name": "stdout",
     "output_type": "stream",
     "text": [
      "crop 끝\n",
      "\n",
      "\n",
      "crop을 하지 않은 이미지를 복사 중입니다.\n",
      "잠시만 기다려 주세요\n"
     ]
    },
    {
     "name": "stderr",
     "output_type": "stream",
     "text": [
      "100%|██████████| 1002/1002 [00:00<00:00, 1738.94it/s]\n",
      "100%|██████████| 10/10 [00:00<00:00, 173.17it/s]\n",
      " 16%|█▋        | 163/1002 [00:00<00:00, 1584.32it/s]"
     ]
    },
    {
     "name": "stdout",
     "output_type": "stream",
     "text": [
      "crop_area 파일 수집중\n",
      "crop 시작\n",
      "sub 디렉토리 생성 :  ../test/cropped_kfood/김치/배추김치/\n",
      "crop 끝\n",
      "\n",
      "\n",
      "crop을 하지 않은 이미지를 복사 중입니다.\n",
      "잠시만 기다려 주세요\n"
     ]
    },
    {
     "name": "stderr",
     "output_type": "stream",
     "text": [
      "100%|██████████| 1002/1002 [00:00<00:00, 1698.53it/s]\n",
      "100%|██████████| 35/35 [00:00<00:00, 216.45it/s]\n",
      "  0%|          | 0/1002 [00:00<?, ?it/s]"
     ]
    },
    {
     "name": "stdout",
     "output_type": "stream",
     "text": [
      "crop_area 파일 수집중\n",
      "crop 시작\n",
      "sub 디렉토리 생성 :  ../test/cropped_kfood/김치/깍두기/\n",
      "crop 끝\n",
      "\n",
      "\n",
      "crop을 하지 않은 이미지를 복사 중입니다.\n",
      "잠시만 기다려 주세요\n"
     ]
    },
    {
     "name": "stderr",
     "output_type": "stream",
     "text": [
      "100%|██████████| 1002/1002 [00:00<00:00, 2036.62it/s]\n",
      "  9%|▉         | 10/106 [00:00<00:00, 99.90it/s]"
     ]
    },
    {
     "name": "stdout",
     "output_type": "stream",
     "text": [
      "crop_area 파일 수집중\n",
      "crop 시작\n",
      "sub 디렉토리 생성 :  ../test/cropped_kfood/김치/갓김치/\n"
     ]
    },
    {
     "name": "stderr",
     "output_type": "stream",
     "text": [
      "100%|██████████| 106/106 [00:00<00:00, 179.56it/s]\n",
      " 24%|██▎       | 236/1002 [00:00<00:00, 2353.84it/s]"
     ]
    },
    {
     "name": "stdout",
     "output_type": "stream",
     "text": [
      "crop 끝\n",
      "\n",
      "\n",
      "crop을 하지 않은 이미지를 복사 중입니다.\n",
      "잠시만 기다려 주세요\n"
     ]
    },
    {
     "name": "stderr",
     "output_type": "stream",
     "text": [
      "100%|██████████| 1002/1002 [00:00<00:00, 1860.76it/s]\n",
      " 22%|██▏       | 15/68 [00:00<00:00, 137.93it/s]"
     ]
    },
    {
     "name": "stdout",
     "output_type": "stream",
     "text": [
      "crop_area 파일 수집중\n",
      "crop 시작\n",
      "sub 디렉토리 생성 :  ../test/cropped_kfood/김치/열무김치/\n"
     ]
    },
    {
     "name": "stderr",
     "output_type": "stream",
     "text": [
      "100%|██████████| 68/68 [00:00<00:00, 165.79it/s]\n",
      " 22%|██▏       | 220/1002 [00:00<00:00, 2191.34it/s]"
     ]
    },
    {
     "name": "stdout",
     "output_type": "stream",
     "text": [
      "crop 끝\n",
      "\n",
      "\n",
      "crop을 하지 않은 이미지를 복사 중입니다.\n",
      "잠시만 기다려 주세요\n"
     ]
    },
    {
     "name": "stderr",
     "output_type": "stream",
     "text": [
      "100%|██████████| 1002/1002 [00:00<00:00, 2145.94it/s]\n",
      "100%|██████████| 41/41 [00:00<00:00, 207.29it/s]\n",
      "  0%|          | 0/1002 [00:00<?, ?it/s]"
     ]
    },
    {
     "name": "stdout",
     "output_type": "stream",
     "text": [
      "crop_area 파일 수집중\n",
      "crop 시작\n",
      "sub 디렉토리 생성 :  ../test/cropped_kfood/김치/나박김치/\n",
      "crop 끝\n",
      "\n",
      "\n",
      "crop을 하지 않은 이미지를 복사 중입니다.\n",
      "잠시만 기다려 주세요\n"
     ]
    },
    {
     "name": "stderr",
     "output_type": "stream",
     "text": [
      "100%|██████████| 1002/1002 [00:00<00:00, 2282.98it/s]\n",
      "100%|██████████| 11/11 [00:00<00:00, 169.16it/s]\n",
      " 24%|██▍       | 245/1002 [00:00<00:00, 2445.55it/s]"
     ]
    },
    {
     "name": "stdout",
     "output_type": "stream",
     "text": [
      "crop_area 파일 수집중\n",
      "crop 시작\n",
      "sub 디렉토리 생성 :  ../test/cropped_kfood/김치/무생채/\n",
      "crop 끝\n",
      "\n",
      "\n",
      "crop을 하지 않은 이미지를 복사 중입니다.\n",
      "잠시만 기다려 주세요\n"
     ]
    },
    {
     "name": "stderr",
     "output_type": "stream",
     "text": [
      "100%|██████████| 1002/1002 [00:00<00:00, 2296.16it/s]\n",
      " 23%|██▎       | 15/64 [00:00<00:00, 144.74it/s]"
     ]
    },
    {
     "name": "stdout",
     "output_type": "stream",
     "text": [
      "crop_area 파일 수집중\n",
      "crop 시작\n",
      "sub 디렉토리 생성 :  ../test/cropped_kfood/김치/백김치/\n"
     ]
    },
    {
     "name": "stderr",
     "output_type": "stream",
     "text": [
      "100%|██████████| 64/64 [00:00<00:00, 211.01it/s]\n",
      " 22%|██▏       | 223/1002 [00:00<00:00, 2212.52it/s]"
     ]
    },
    {
     "name": "stdout",
     "output_type": "stream",
     "text": [
      "crop 끝\n",
      "\n",
      "\n",
      "crop을 하지 않은 이미지를 복사 중입니다.\n",
      "잠시만 기다려 주세요\n"
     ]
    },
    {
     "name": "stderr",
     "output_type": "stream",
     "text": [
      "100%|██████████| 1002/1002 [00:00<00:00, 1318.80it/s]\n",
      " 11%|█         | 8/73 [00:00<00:00, 78.67it/s]"
     ]
    },
    {
     "name": "stdout",
     "output_type": "stream",
     "text": [
      "crop_area 파일 수집중\n",
      "crop 시작\n",
      "sub 디렉토리 생성 :  ../test/cropped_kfood/김치/파김치/\n"
     ]
    },
    {
     "name": "stderr",
     "output_type": "stream",
     "text": [
      "100%|██████████| 73/73 [00:00<00:00, 170.93it/s]\n",
      " 22%|██▏       | 225/1002 [00:00<00:00, 2246.80it/s]"
     ]
    },
    {
     "name": "stdout",
     "output_type": "stream",
     "text": [
      "crop 끝\n",
      "\n",
      "\n",
      "crop을 하지 않은 이미지를 복사 중입니다.\n",
      "잠시만 기다려 주세요\n"
     ]
    },
    {
     "name": "stderr",
     "output_type": "stream",
     "text": [
      "100%|██████████| 1002/1002 [00:01<00:00, 934.98it/s]\n",
      " 42%|████▏     | 14/33 [00:00<00:00, 134.71it/s]"
     ]
    },
    {
     "name": "stdout",
     "output_type": "stream",
     "text": [
      "crop_area 파일 수집중\n",
      "crop 시작\n",
      "sub 디렉토리 생성 :  ../test/cropped_kfood/김치/부추김치/\n"
     ]
    },
    {
     "name": "stderr",
     "output_type": "stream",
     "text": [
      "100%|██████████| 33/33 [00:00<00:00, 160.82it/s]\n",
      " 16%|█▌        | 161/1002 [00:00<00:00, 1608.91it/s]"
     ]
    },
    {
     "name": "stdout",
     "output_type": "stream",
     "text": [
      "crop 끝\n",
      "\n",
      "\n",
      "crop을 하지 않은 이미지를 복사 중입니다.\n",
      "잠시만 기다려 주세요\n"
     ]
    },
    {
     "name": "stderr",
     "output_type": "stream",
     "text": [
      "100%|██████████| 1002/1002 [00:01<00:00, 620.18it/s]\n",
      " 20%|█▉        | 23/117 [00:00<00:00, 227.23it/s]"
     ]
    },
    {
     "name": "stdout",
     "output_type": "stream",
     "text": [
      "\n",
      "\n",
      "\n",
      "------------------------------\n",
      "적처리중\n",
      "main 디렉토리 생성 :  ../test/cropped_kfood/적/\n",
      "crop_area 파일 수집중\n",
      "crop 시작\n",
      "sub 디렉토리 생성 :  ../test/cropped_kfood/적/떡꼬치/\n"
     ]
    },
    {
     "name": "stderr",
     "output_type": "stream",
     "text": [
      "100%|██████████| 117/117 [00:00<00:00, 238.00it/s]\n",
      " 27%|██▋       | 295/1097 [00:00<00:00, 2947.16it/s]"
     ]
    },
    {
     "name": "stdout",
     "output_type": "stream",
     "text": [
      "crop 끝\n",
      "\n",
      "\n",
      "crop을 하지 않은 이미지를 복사 중입니다.\n",
      "잠시만 기다려 주세요\n"
     ]
    },
    {
     "name": "stderr",
     "output_type": "stream",
     "text": [
      "100%|██████████| 1097/1097 [00:00<00:00, 2871.31it/s]\n",
      "  6%|▌         | 20/337 [00:00<00:01, 188.73it/s]"
     ]
    },
    {
     "name": "stdout",
     "output_type": "stream",
     "text": [
      "\n",
      "\n",
      "\n",
      "------------------------------\n",
      "회처리중\n",
      "main 디렉토리 생성 :  ../test/cropped_kfood/회/\n",
      "crop_area 파일 수집중\n",
      "crop 시작\n",
      "sub 디렉토리 생성 :  ../test/cropped_kfood/회/물회/\n"
     ]
    },
    {
     "name": "stderr",
     "output_type": "stream",
     "text": [
      "100%|██████████| 337/337 [00:04<00:00, 73.00it/s] \n",
      " 37%|███▋      | 376/1015 [00:00<00:00, 3755.64it/s]"
     ]
    },
    {
     "name": "stdout",
     "output_type": "stream",
     "text": [
      "crop 끝\n",
      "\n",
      "\n",
      "crop을 하지 않은 이미지를 복사 중입니다.\n",
      "잠시만 기다려 주세요\n"
     ]
    },
    {
     "name": "stderr",
     "output_type": "stream",
     "text": [
      "100%|██████████| 1015/1015 [00:00<00:00, 3541.77it/s]\n",
      "  3%|▎         | 22/772 [00:00<00:03, 214.07it/s]"
     ]
    },
    {
     "name": "stdout",
     "output_type": "stream",
     "text": [
      "crop_area 파일 수집중\n",
      "crop 시작\n",
      "sub 디렉토리 생성 :  ../test/cropped_kfood/회/육회/\n"
     ]
    },
    {
     "name": "stderr",
     "output_type": "stream",
     "text": [
      "100%|██████████| 772/772 [00:03<00:00, 228.22it/s]\n",
      "100%|██████████| 1002/1002 [00:00<00:00, 10228.64it/s]\n",
      "  0%|          | 0/97 [00:00<?, ?it/s]"
     ]
    },
    {
     "name": "stdout",
     "output_type": "stream",
     "text": [
      "crop 끝\n",
      "\n",
      "\n",
      "crop을 하지 않은 이미지를 복사 중입니다.\n",
      "잠시만 기다려 주세요\n",
      "\n",
      "\n",
      "\n",
      "------------------------------\n",
      "찌개처리중\n",
      "main 디렉토리 생성 :  ../test/cropped_kfood/찌개/\n",
      "crop_area 파일 수집중\n",
      "crop 시작\n",
      "sub 디렉토리 생성 :  ../test/cropped_kfood/찌개/김치찌개/\n"
     ]
    },
    {
     "name": "stderr",
     "output_type": "stream",
     "text": [
      "100%|██████████| 97/97 [00:00<00:00, 130.73it/s]\n",
      " 19%|█▉        | 189/1007 [00:00<00:00, 1879.57it/s]"
     ]
    },
    {
     "name": "stdout",
     "output_type": "stream",
     "text": [
      "crop 끝\n",
      "\n",
      "\n",
      "crop을 하지 않은 이미지를 복사 중입니다.\n",
      "잠시만 기다려 주세요\n"
     ]
    },
    {
     "name": "stderr",
     "output_type": "stream",
     "text": [
      "100%|██████████| 1007/1007 [00:00<00:00, 1963.63it/s]\n",
      "  6%|▌         | 11/200 [00:00<00:01, 108.26it/s]"
     ]
    },
    {
     "name": "stdout",
     "output_type": "stream",
     "text": [
      "crop_area 파일 수집중\n",
      "crop 시작\n",
      "sub 디렉토리 생성 :  ../test/cropped_kfood/찌개/닭계장/\n"
     ]
    },
    {
     "name": "stderr",
     "output_type": "stream",
     "text": [
      "100%|██████████| 200/200 [00:01<00:00, 135.28it/s]\n",
      " 28%|██▊       | 280/1005 [00:00<00:00, 2798.15it/s]"
     ]
    },
    {
     "name": "stdout",
     "output_type": "stream",
     "text": [
      "crop 끝\n",
      "\n",
      "\n",
      "crop을 하지 않은 이미지를 복사 중입니다.\n",
      "잠시만 기다려 주세요\n"
     ]
    },
    {
     "name": "stderr",
     "output_type": "stream",
     "text": [
      "100%|██████████| 1005/1005 [00:00<00:00, 2695.32it/s]\n",
      "  9%|▉         | 10/108 [00:00<00:00, 99.31it/s]"
     ]
    },
    {
     "name": "stdout",
     "output_type": "stream",
     "text": [
      "crop_area 파일 수집중\n",
      "crop 시작\n",
      "sub 디렉토리 생성 :  ../test/cropped_kfood/찌개/된장찌개/\n"
     ]
    },
    {
     "name": "stderr",
     "output_type": "stream",
     "text": [
      "100%|██████████| 108/108 [00:00<00:00, 136.10it/s]\n",
      " 18%|█▊        | 176/1005 [00:00<00:00, 1748.51it/s]"
     ]
    },
    {
     "name": "stdout",
     "output_type": "stream",
     "text": [
      "crop 끝\n",
      "\n",
      "\n",
      "crop을 하지 않은 이미지를 복사 중입니다.\n",
      "잠시만 기다려 주세요\n"
     ]
    },
    {
     "name": "stderr",
     "output_type": "stream",
     "text": [
      "100%|██████████| 1005/1005 [00:00<00:00, 2144.06it/s]\n",
      " 22%|██▏       | 17/77 [00:00<00:00, 169.87it/s]"
     ]
    },
    {
     "name": "stdout",
     "output_type": "stream",
     "text": [
      "crop_area 파일 수집중\n",
      "crop 시작\n",
      "sub 디렉토리 생성 :  ../test/cropped_kfood/찌개/동태찌개/\n"
     ]
    },
    {
     "name": "stderr",
     "output_type": "stream",
     "text": [
      "100%|██████████| 77/77 [00:00<00:00, 193.33it/s]\n",
      " 28%|██▊       | 282/1002 [00:00<00:00, 2809.73it/s]"
     ]
    },
    {
     "name": "stdout",
     "output_type": "stream",
     "text": [
      "crop 끝\n",
      "\n",
      "\n",
      "crop을 하지 않은 이미지를 복사 중입니다.\n",
      "잠시만 기다려 주세요\n"
     ]
    },
    {
     "name": "stderr",
     "output_type": "stream",
     "text": [
      "100%|██████████| 1002/1002 [00:00<00:00, 2829.39it/s]\n",
      "  6%|▌         | 9/153 [00:00<00:01, 86.63it/s]"
     ]
    },
    {
     "name": "stdout",
     "output_type": "stream",
     "text": [
      "crop_area 파일 수집중\n",
      "crop 시작\n",
      "sub 디렉토리 생성 :  ../test/cropped_kfood/찌개/순두부찌개/\n"
     ]
    },
    {
     "name": "stderr",
     "output_type": "stream",
     "text": [
      "100%|██████████| 153/153 [00:01<00:00, 132.50it/s]\n",
      " 24%|██▎       | 237/1004 [00:00<00:00, 2362.33it/s]"
     ]
    },
    {
     "name": "stdout",
     "output_type": "stream",
     "text": [
      "crop 끝\n",
      "\n",
      "\n",
      "crop을 하지 않은 이미지를 복사 중입니다.\n",
      "잠시만 기다려 주세요\n"
     ]
    },
    {
     "name": "stderr",
     "output_type": "stream",
     "text": [
      "100%|██████████| 1004/1004 [00:01<00:00, 950.69it/s]\n",
      "  5%|▌         | 12/233 [00:00<00:02, 110.13it/s]"
     ]
    },
    {
     "name": "stdout",
     "output_type": "stream",
     "text": [
      "\n",
      "\n",
      "\n",
      "------------------------------\n",
      "기타처리중\n",
      "main 디렉토리 생성 :  ../test/cropped_kfood/기타/\n",
      "crop_area 파일 수집중\n",
      "crop 시작\n",
      "sub 디렉토리 생성 :  ../test/cropped_kfood/기타/양념치킨/\n"
     ]
    },
    {
     "name": "stderr",
     "output_type": "stream",
     "text": [
      " 45%|████▌     | 106/233 [00:00<00:00, 140.14it/s]/home/aiffel0042/anaconda3/envs/aiffel/lib/python3.7/site-packages/PIL/Image.py:961: UserWarning: Palette images with Transparency expressed in bytes should be converted to RGBA images\n",
      "  \"Palette images with Transparency expressed in bytes should be \"\n",
      "100%|██████████| 233/233 [00:02<00:00, 113.66it/s]\n",
      "  0%|          | 0/1002 [00:00<?, ?it/s]"
     ]
    },
    {
     "name": "stdout",
     "output_type": "stream",
     "text": [
      "crop 끝\n",
      "\n",
      "\n",
      "crop을 하지 않은 이미지를 복사 중입니다.\n",
      "잠시만 기다려 주세요\n"
     ]
    },
    {
     "name": "stderr",
     "output_type": "stream",
     "text": [
      "100%|██████████| 1002/1002 [00:02<00:00, 475.59it/s]\n",
      "  1%|▏         | 4/298 [00:00<00:09, 29.99it/s]"
     ]
    },
    {
     "name": "stdout",
     "output_type": "stream",
     "text": [
      "crop_area 파일 수집중\n",
      "crop 시작\n",
      "sub 디렉토리 생성 :  ../test/cropped_kfood/기타/편육/\n"
     ]
    },
    {
     "name": "stderr",
     "output_type": "stream",
     "text": [
      "100%|██████████| 298/298 [00:03<00:00, 88.03it/s] \n",
      " 34%|███▍      | 342/1002 [00:00<00:00, 3415.34it/s]"
     ]
    },
    {
     "name": "stdout",
     "output_type": "stream",
     "text": [
      "crop 끝\n",
      "\n",
      "\n",
      "crop을 하지 않은 이미지를 복사 중입니다.\n",
      "잠시만 기다려 주세요\n"
     ]
    },
    {
     "name": "stderr",
     "output_type": "stream",
     "text": [
      "100%|██████████| 1002/1002 [00:00<00:00, 3391.80it/s]\n",
      "  4%|▎         | 24/655 [00:00<00:02, 232.47it/s]"
     ]
    },
    {
     "name": "stdout",
     "output_type": "stream",
     "text": [
      "crop_area 파일 수집중\n",
      "crop 시작\n",
      "sub 디렉토리 생성 :  ../test/cropped_kfood/기타/과메기/\n"
     ]
    },
    {
     "name": "stderr",
     "output_type": "stream",
     "text": [
      "100%|██████████| 655/655 [00:02<00:00, 238.87it/s]\n",
      "100%|██████████| 1005/1005 [00:00<00:00, 6493.78it/s]\n",
      "  0%|          | 0/10 [00:00<?, ?it/s]"
     ]
    },
    {
     "name": "stdout",
     "output_type": "stream",
     "text": [
      "crop 끝\n",
      "\n",
      "\n",
      "crop을 하지 않은 이미지를 복사 중입니다.\n",
      "잠시만 기다려 주세요\n",
      "crop_area 파일 수집중\n",
      "crop 시작\n",
      "sub 디렉토리 생성 :  ../test/cropped_kfood/기타/피자/\n"
     ]
    },
    {
     "name": "stderr",
     "output_type": "stream",
     "text": [
      "100%|██████████| 10/10 [00:00<00:00, 206.89it/s]\n",
      " 15%|█▌        | 155/1002 [00:00<00:00, 1537.25it/s]"
     ]
    },
    {
     "name": "stdout",
     "output_type": "stream",
     "text": [
      "crop 끝\n",
      "\n",
      "\n",
      "crop을 하지 않은 이미지를 복사 중입니다.\n",
      "잠시만 기다려 주세요\n"
     ]
    },
    {
     "name": "stderr",
     "output_type": "stream",
     "text": [
      "100%|██████████| 1002/1002 [00:00<00:00, 1816.08it/s]\n",
      "100%|██████████| 33/33 [00:00<00:00, 210.56it/s]\n",
      "  0%|          | 0/1002 [00:00<?, ?it/s]"
     ]
    },
    {
     "name": "stdout",
     "output_type": "stream",
     "text": [
      "crop_area 파일 수집중\n",
      "crop 시작\n",
      "sub 디렉토리 생성 :  ../test/cropped_kfood/기타/콩자반/\n",
      "crop 끝\n",
      "\n",
      "\n",
      "crop을 하지 않은 이미지를 복사 중입니다.\n",
      "잠시만 기다려 주세요\n"
     ]
    },
    {
     "name": "stderr",
     "output_type": "stream",
     "text": [
      "100%|██████████| 1002/1002 [00:00<00:00, 2528.77it/s]\n",
      " 20%|█▉        | 8/41 [00:00<00:00, 79.28it/s]"
     ]
    },
    {
     "name": "stdout",
     "output_type": "stream",
     "text": [
      "crop_area 파일 수집중\n",
      "crop 시작\n",
      "sub 디렉토리 생성 :  ../test/cropped_kfood/기타/후라이드치킨/\n"
     ]
    },
    {
     "name": "stderr",
     "output_type": "stream",
     "text": [
      "100%|██████████| 41/41 [00:00<00:00, 106.66it/s]\n",
      " 42%|████▏     | 416/1002 [00:00<00:00, 2086.20it/s]"
     ]
    },
    {
     "name": "stdout",
     "output_type": "stream",
     "text": [
      "crop 끝\n",
      "\n",
      "\n",
      "crop을 하지 않은 이미지를 복사 중입니다.\n",
      "잠시만 기다려 주세요\n"
     ]
    },
    {
     "name": "stderr",
     "output_type": "stream",
     "text": [
      "100%|██████████| 1002/1002 [00:00<00:00, 2080.44it/s]\n",
      " 14%|█▍        | 14/100 [00:00<00:00, 135.30it/s]"
     ]
    },
    {
     "name": "stdout",
     "output_type": "stream",
     "text": [
      "crop_area 파일 수집중\n",
      "crop 시작\n",
      "sub 디렉토리 생성 :  ../test/cropped_kfood/기타/젓갈/\n"
     ]
    },
    {
     "name": "stderr",
     "output_type": "stream",
     "text": [
      "100%|██████████| 100/100 [00:00<00:00, 211.58it/s]\n",
      " 22%|██▏       | 222/1002 [00:00<00:00, 2202.62it/s]"
     ]
    },
    {
     "name": "stdout",
     "output_type": "stream",
     "text": [
      "crop 끝\n",
      "\n",
      "\n",
      "crop을 하지 않은 이미지를 복사 중입니다.\n",
      "잠시만 기다려 주세요\n"
     ]
    },
    {
     "name": "stderr",
     "output_type": "stream",
     "text": [
      "100%|██████████| 1002/1002 [00:00<00:00, 2378.68it/s]\n",
      "  8%|▊         | 23/273 [00:00<00:01, 227.83it/s]"
     ]
    },
    {
     "name": "stdout",
     "output_type": "stream",
     "text": [
      "\n",
      "\n",
      "\n",
      "------------------------------\n",
      "튀김처리중\n",
      "main 디렉토리 생성 :  ../test/cropped_kfood/튀김/\n",
      "crop_area 파일 수집중\n",
      "crop 시작\n",
      "sub 디렉토리 생성 :  ../test/cropped_kfood/튀김/오징어튀김/\n"
     ]
    },
    {
     "name": "stderr",
     "output_type": "stream",
     "text": [
      "100%|██████████| 273/273 [00:01<00:00, 229.62it/s]\n",
      " 37%|███▋      | 376/1004 [00:00<00:00, 3749.57it/s]"
     ]
    },
    {
     "name": "stdout",
     "output_type": "stream",
     "text": [
      "crop 끝\n",
      "\n",
      "\n",
      "crop을 하지 않은 이미지를 복사 중입니다.\n",
      "잠시만 기다려 주세요\n"
     ]
    },
    {
     "name": "stderr",
     "output_type": "stream",
     "text": [
      "100%|██████████| 1004/1004 [00:00<00:00, 3551.33it/s]\n",
      "  3%|▎         | 25/772 [00:00<00:03, 238.62it/s]"
     ]
    },
    {
     "name": "stdout",
     "output_type": "stream",
     "text": [
      "crop_area 파일 수집중\n",
      "crop 시작\n",
      "sub 디렉토리 생성 :  ../test/cropped_kfood/튀김/새우튀김/\n"
     ]
    },
    {
     "name": "stderr",
     "output_type": "stream",
     "text": [
      "100%|██████████| 772/772 [00:03<00:00, 218.97it/s]\n",
      " 23%|██▎       | 235/1005 [00:00<00:00, 2201.17it/s]"
     ]
    },
    {
     "name": "stdout",
     "output_type": "stream",
     "text": [
      "crop 끝\n",
      "\n",
      "\n",
      "crop을 하지 않은 이미지를 복사 중입니다.\n",
      "잠시만 기다려 주세요\n"
     ]
    },
    {
     "name": "stderr",
     "output_type": "stream",
     "text": [
      "100%|██████████| 1005/1005 [00:00<00:00, 3403.64it/s]\n",
      "  4%|▍         | 24/561 [00:00<00:02, 239.15it/s]"
     ]
    },
    {
     "name": "stdout",
     "output_type": "stream",
     "text": [
      "crop_area 파일 수집중\n",
      "crop 시작\n",
      "sub 디렉토리 생성 :  ../test/cropped_kfood/튀김/고추튀김/\n"
     ]
    },
    {
     "name": "stderr",
     "output_type": "stream",
     "text": [
      "100%|██████████| 561/561 [00:02<00:00, 233.17it/s]\n",
      " 60%|█████▉    | 605/1009 [00:00<00:00, 6030.57it/s]"
     ]
    },
    {
     "name": "stdout",
     "output_type": "stream",
     "text": [
      "crop 끝\n",
      "\n",
      "\n",
      "crop을 하지 않은 이미지를 복사 중입니다.\n",
      "잠시만 기다려 주세요\n"
     ]
    },
    {
     "name": "stderr",
     "output_type": "stream",
     "text": [
      "100%|██████████| 1009/1009 [00:00<00:00, 3009.65it/s]\n",
      "  2%|▏         | 20/917 [00:00<00:04, 191.47it/s]"
     ]
    },
    {
     "name": "stdout",
     "output_type": "stream",
     "text": [
      "\n",
      "\n",
      "\n",
      "------------------------------\n",
      "밥처리중\n",
      "main 디렉토리 생성 :  ../test/cropped_kfood/밥/\n",
      "crop_area 파일 수집중\n",
      "crop 시작\n",
      "sub 디렉토리 생성 :  ../test/cropped_kfood/밥/유부초밥/\n"
     ]
    },
    {
     "name": "stderr",
     "output_type": "stream",
     "text": [
      "100%|██████████| 917/917 [00:08<00:00, 108.67it/s]\n",
      " 17%|█▋        | 167/1002 [00:00<00:00, 1526.76it/s]"
     ]
    },
    {
     "name": "stdout",
     "output_type": "stream",
     "text": [
      "crop 끝\n",
      "\n",
      "\n",
      "crop을 하지 않은 이미지를 복사 중입니다.\n",
      "잠시만 기다려 주세요\n"
     ]
    },
    {
     "name": "stderr",
     "output_type": "stream",
     "text": [
      "100%|██████████| 1002/1002 [00:00<00:00, 1285.19it/s]\n",
      "  2%|▏         | 14/749 [00:00<00:05, 139.12it/s]"
     ]
    },
    {
     "name": "stdout",
     "output_type": "stream",
     "text": [
      "crop_area 파일 수집중\n",
      "crop 시작\n",
      "sub 디렉토리 생성 :  ../test/cropped_kfood/밥/알밥/\n"
     ]
    },
    {
     "name": "stderr",
     "output_type": "stream",
     "text": [
      "100%|██████████| 749/749 [00:04<00:00, 185.19it/s]\n",
      "100%|██████████| 1002/1002 [00:00<00:00, 9463.88it/s]\n",
      "  0%|          | 0/811 [00:00<?, ?it/s]"
     ]
    },
    {
     "name": "stdout",
     "output_type": "stream",
     "text": [
      "crop 끝\n",
      "\n",
      "\n",
      "crop을 하지 않은 이미지를 복사 중입니다.\n",
      "잠시만 기다려 주세요\n",
      "crop_area 파일 수집중\n",
      "crop 시작\n",
      "sub 디렉토리 생성 :  ../test/cropped_kfood/밥/잡곡밥/\n"
     ]
    },
    {
     "name": "stderr",
     "output_type": "stream",
     "text": [
      "100%|██████████| 811/811 [00:04<00:00, 170.05it/s]\n",
      "100%|██████████| 1002/1002 [00:00<00:00, 7800.58it/s]\n",
      "  0%|          | 0/394 [00:00<?, ?it/s]"
     ]
    },
    {
     "name": "stdout",
     "output_type": "stream",
     "text": [
      "crop 끝\n",
      "\n",
      "\n",
      "crop을 하지 않은 이미지를 복사 중입니다.\n",
      "잠시만 기다려 주세요\n",
      "crop_area 파일 수집중\n",
      "crop 시작\n",
      "sub 디렉토리 생성 :  ../test/cropped_kfood/밥/김밥/\n"
     ]
    },
    {
     "name": "stderr",
     "output_type": "stream",
     "text": [
      "100%|██████████| 394/394 [00:02<00:00, 161.07it/s]\n",
      " 61%|██████    | 607/1002 [00:00<00:00, 3084.85it/s]"
     ]
    },
    {
     "name": "stdout",
     "output_type": "stream",
     "text": [
      "crop 끝\n",
      "\n",
      "\n",
      "crop을 하지 않은 이미지를 복사 중입니다.\n",
      "잠시만 기다려 주세요\n"
     ]
    },
    {
     "name": "stderr",
     "output_type": "stream",
     "text": [
      "100%|██████████| 1002/1002 [00:00<00:00, 3046.01it/s]\n",
      "  2%|▏         | 21/887 [00:00<00:04, 202.75it/s]"
     ]
    },
    {
     "name": "stdout",
     "output_type": "stream",
     "text": [
      "crop_area 파일 수집중\n",
      "crop 시작\n",
      "sub 디렉토리 생성 :  ../test/cropped_kfood/밥/주먹밥/\n"
     ]
    },
    {
     "name": "stderr",
     "output_type": "stream",
     "text": [
      "100%|██████████| 887/887 [00:03<00:00, 225.22it/s]\n",
      "100%|██████████| 1002/1002 [00:00<00:00, 17850.45it/s]\n",
      "  2%|▏         | 12/606 [00:00<00:05, 115.91it/s]"
     ]
    },
    {
     "name": "stdout",
     "output_type": "stream",
     "text": [
      "crop 끝\n",
      "\n",
      "\n",
      "crop을 하지 않은 이미지를 복사 중입니다.\n",
      "잠시만 기다려 주세요\n",
      "crop_area 파일 수집중\n",
      "crop 시작\n",
      "sub 디렉토리 생성 :  ../test/cropped_kfood/밥/김치볶음밥/\n"
     ]
    },
    {
     "name": "stderr",
     "output_type": "stream",
     "text": [
      "100%|██████████| 606/606 [00:03<00:00, 157.39it/s]\n",
      " 43%|████▎     | 426/1002 [00:00<00:00, 4231.56it/s]"
     ]
    },
    {
     "name": "stdout",
     "output_type": "stream",
     "text": [
      "crop 끝\n",
      "\n",
      "\n",
      "crop을 하지 않은 이미지를 복사 중입니다.\n",
      "잠시만 기다려 주세요\n"
     ]
    },
    {
     "name": "stderr",
     "output_type": "stream",
     "text": [
      "100%|██████████| 1002/1002 [00:00<00:00, 4196.55it/s]\n",
      "  2%|▏         | 15/818 [00:00<00:05, 142.57it/s]"
     ]
    },
    {
     "name": "stdout",
     "output_type": "stream",
     "text": [
      "crop_area 파일 수집중\n",
      "crop 시작\n",
      "sub 디렉토리 생성 :  ../test/cropped_kfood/밥/새우볶음밥/\n"
     ]
    },
    {
     "name": "stderr",
     "output_type": "stream",
     "text": [
      "100%|██████████| 818/818 [00:05<00:00, 156.38it/s]\n",
      "100%|██████████| 1002/1002 [00:00<00:00, 6878.23it/s]\n",
      "  0%|          | 0/725 [00:00<?, ?it/s]"
     ]
    },
    {
     "name": "stdout",
     "output_type": "stream",
     "text": [
      "crop 끝\n",
      "\n",
      "\n",
      "crop을 하지 않은 이미지를 복사 중입니다.\n",
      "잠시만 기다려 주세요\n",
      "crop_area 파일 수집중\n",
      "crop 시작\n",
      "sub 디렉토리 생성 :  ../test/cropped_kfood/밥/누룽지/\n"
     ]
    },
    {
     "name": "stderr",
     "output_type": "stream",
     "text": [
      "100%|██████████| 725/725 [00:04<00:00, 161.68it/s]\n",
      "100%|██████████| 1002/1002 [00:00<00:00, 6430.65it/s]\n",
      "  0%|          | 0/603 [00:00<?, ?it/s]"
     ]
    },
    {
     "name": "stdout",
     "output_type": "stream",
     "text": [
      "crop 끝\n",
      "\n",
      "\n",
      "crop을 하지 않은 이미지를 복사 중입니다.\n",
      "잠시만 기다려 주세요\n",
      "crop_area 파일 수집중\n",
      "crop 시작\n",
      "sub 디렉토리 생성 :  ../test/cropped_kfood/밥/비빔밥/\n"
     ]
    },
    {
     "name": "stderr",
     "output_type": "stream",
     "text": [
      "100%|██████████| 603/603 [00:04<00:00, 143.09it/s]\n",
      " 42%|████▏     | 419/1002 [00:00<00:00, 4141.69it/s]"
     ]
    },
    {
     "name": "stdout",
     "output_type": "stream",
     "text": [
      "crop 끝\n",
      "\n",
      "\n",
      "crop을 하지 않은 이미지를 복사 중입니다.\n",
      "잠시만 기다려 주세요\n"
     ]
    },
    {
     "name": "stderr",
     "output_type": "stream",
     "text": [
      "100%|██████████| 1002/1002 [00:00<00:00, 3945.18it/s]\n",
      "  6%|▋         | 15/233 [00:00<00:01, 146.02it/s]"
     ]
    },
    {
     "name": "stdout",
     "output_type": "stream",
     "text": [
      "\n",
      "\n",
      "\n",
      "------------------------------\n",
      "떡처리중\n",
      "main 디렉토리 생성 :  ../test/cropped_kfood/떡/\n",
      "crop_area 파일 수집중\n",
      "crop 시작\n",
      "sub 디렉토리 생성 :  ../test/cropped_kfood/떡/경단/\n"
     ]
    },
    {
     "name": "stderr",
     "output_type": "stream",
     "text": [
      " 23%|██▎       | 53/233 [00:00<00:01, 122.60it/s]/home/aiffel0042/anaconda3/envs/aiffel/lib/python3.7/site-packages/PIL/TiffImagePlugin.py:785: UserWarning: Corrupt EXIF data.  Expecting to read 12 bytes but only got 4. \n",
      "  warnings.warn(str(msg))\n",
      " 34%|███▍      | 80/233 [00:00<00:01, 124.85it/s]/home/aiffel0042/anaconda3/envs/aiffel/lib/python3.7/site-packages/PIL/TiffImagePlugin.py:766: UserWarning: Possibly corrupt EXIF data.  Expecting to read 1078 bytes but only got 0. Skipping tag 37500\n",
      "  \" Skipping tag %s\" % (size, len(data), tag)\n",
      "/home/aiffel0042/anaconda3/envs/aiffel/lib/python3.7/site-packages/PIL/TiffImagePlugin.py:766: UserWarning: Possibly corrupt EXIF data.  Expecting to read 125 bytes but only got 120. Skipping tag 37510\n",
      "  \" Skipping tag %s\" % (size, len(data), tag)\n",
      "/home/aiffel0042/anaconda3/envs/aiffel/lib/python3.7/site-packages/PIL/TiffImagePlugin.py:766: UserWarning: Possibly corrupt EXIF data.  Expecting to read 8 bytes but only got 0. Skipping tag 41988\n",
      "  \" Skipping tag %s\" % (size, len(data), tag)\n",
      "100%|██████████| 233/233 [00:01<00:00, 175.81it/s]\n",
      " 32%|███▏      | 320/1002 [00:00<00:00, 3196.73it/s]"
     ]
    },
    {
     "name": "stdout",
     "output_type": "stream",
     "text": [
      "crop 끝\n",
      "\n",
      "\n",
      "crop을 하지 않은 이미지를 복사 중입니다.\n",
      "잠시만 기다려 주세요\n"
     ]
    },
    {
     "name": "stderr",
     "output_type": "stream",
     "text": [
      "100%|██████████| 1002/1002 [00:00<00:00, 1562.06it/s]\n",
      "  3%|▎         | 26/880 [00:00<00:03, 257.49it/s]"
     ]
    },
    {
     "name": "stdout",
     "output_type": "stream",
     "text": [
      "crop_area 파일 수집중\n",
      "crop 시작\n",
      "sub 디렉토리 생성 :  ../test/cropped_kfood/떡/송편/\n"
     ]
    },
    {
     "name": "stderr",
     "output_type": "stream",
     "text": [
      "100%|██████████| 880/880 [00:02<00:00, 401.89it/s]\n",
      "100%|██████████| 1002/1002 [00:00<00:00, 7193.12it/s]\n",
      "  0%|          | 0/736 [00:00<?, ?it/s]"
     ]
    },
    {
     "name": "stdout",
     "output_type": "stream",
     "text": [
      "crop 끝\n",
      "\n",
      "\n",
      "crop을 하지 않은 이미지를 복사 중입니다.\n",
      "잠시만 기다려 주세요\n",
      "crop_area 파일 수집중\n",
      "crop 시작\n",
      "sub 디렉토리 생성 :  ../test/cropped_kfood/떡/꿀떡/\n"
     ]
    },
    {
     "name": "stderr",
     "output_type": "stream",
     "text": [
      "100%|██████████| 736/736 [00:04<00:00, 167.58it/s]\n",
      "100%|██████████| 1005/1005 [00:00<00:00, 7141.97it/s]\n",
      "  0%|          | 0/70 [00:00<?, ?it/s]"
     ]
    },
    {
     "name": "stdout",
     "output_type": "stream",
     "text": [
      "crop 끝\n",
      "\n",
      "\n",
      "crop을 하지 않은 이미지를 복사 중입니다.\n",
      "잠시만 기다려 주세요\n",
      "\n",
      "\n",
      "\n",
      "------------------------------\n",
      "구이처리중\n",
      "main 디렉토리 생성 :  ../test/cropped_kfood/구이/\n",
      "crop_area 파일 수집중\n",
      "crop 시작\n",
      "sub 디렉토리 생성 :  ../test/cropped_kfood/구이/곱창구이/\n"
     ]
    },
    {
     "name": "stderr",
     "output_type": "stream",
     "text": [
      "100%|██████████| 70/70 [00:00<00:00, 223.08it/s]\n",
      " 27%|██▋       | 268/1002 [00:00<00:00, 2678.74it/s]"
     ]
    },
    {
     "name": "stdout",
     "output_type": "stream",
     "text": [
      "crop 끝\n",
      "\n",
      "\n",
      "crop을 하지 않은 이미지를 복사 중입니다.\n",
      "잠시만 기다려 주세요\n"
     ]
    },
    {
     "name": "stderr",
     "output_type": "stream",
     "text": [
      "100%|██████████| 1002/1002 [00:00<00:00, 2655.92it/s]\n",
      "  3%|▎         | 9/341 [00:00<00:03, 85.20it/s]"
     ]
    },
    {
     "name": "stdout",
     "output_type": "stream",
     "text": [
      "crop_area 파일 수집중\n",
      "crop 시작\n",
      "sub 디렉토리 생성 :  ../test/cropped_kfood/구이/삼겹살/\n"
     ]
    },
    {
     "name": "stderr",
     "output_type": "stream",
     "text": [
      "100%|██████████| 341/341 [00:02<00:00, 124.50it/s]\n",
      " 49%|████▊     | 487/1002 [00:00<00:00, 2533.36it/s]"
     ]
    },
    {
     "name": "stdout",
     "output_type": "stream",
     "text": [
      "crop 끝\n",
      "\n",
      "\n",
      "crop을 하지 않은 이미지를 복사 중입니다.\n",
      "잠시만 기다려 주세요\n"
     ]
    },
    {
     "name": "stderr",
     "output_type": "stream",
     "text": [
      "100%|██████████| 1002/1002 [00:00<00:00, 2516.46it/s]\n",
      "  3%|▎         | 9/316 [00:00<00:05, 53.20it/s]"
     ]
    },
    {
     "name": "stdout",
     "output_type": "stream",
     "text": [
      "crop_area 파일 수집중\n",
      "crop 시작\n",
      "sub 디렉토리 생성 :  ../test/cropped_kfood/구이/갈치구이/\n"
     ]
    },
    {
     "name": "stderr",
     "output_type": "stream",
     "text": [
      "100%|██████████| 316/316 [00:02<00:00, 125.40it/s]\n",
      " 23%|██▎       | 232/1002 [00:00<00:00, 2307.61it/s]"
     ]
    },
    {
     "name": "stdout",
     "output_type": "stream",
     "text": [
      "crop 끝\n",
      "\n",
      "\n",
      "crop을 하지 않은 이미지를 복사 중입니다.\n",
      "잠시만 기다려 주세요\n"
     ]
    },
    {
     "name": "stderr",
     "output_type": "stream",
     "text": [
      "100%|██████████| 1002/1002 [00:00<00:00, 2615.78it/s]\n",
      "  9%|▉         | 20/220 [00:00<00:01, 194.41it/s]"
     ]
    },
    {
     "name": "stdout",
     "output_type": "stream",
     "text": [
      "crop_area 파일 수집중\n",
      "crop 시작\n",
      "sub 디렉토리 생성 :  ../test/cropped_kfood/구이/고등어구이/\n"
     ]
    },
    {
     "name": "stderr",
     "output_type": "stream",
     "text": [
      "100%|██████████| 220/220 [00:01<00:00, 144.60it/s]\n",
      " 27%|██▋       | 266/1002 [00:00<00:00, 2659.10it/s]"
     ]
    },
    {
     "name": "stdout",
     "output_type": "stream",
     "text": [
      "crop 끝\n",
      "\n",
      "\n",
      "crop을 하지 않은 이미지를 복사 중입니다.\n",
      "잠시만 기다려 주세요\n"
     ]
    },
    {
     "name": "stderr",
     "output_type": "stream",
     "text": [
      "100%|██████████| 1002/1002 [00:00<00:00, 2639.89it/s]\n",
      " 21%|██        | 22/104 [00:00<00:00, 219.20it/s]"
     ]
    },
    {
     "name": "stdout",
     "output_type": "stream",
     "text": [
      "crop_area 파일 수집중\n",
      "crop 시작\n",
      "sub 디렉토리 생성 :  ../test/cropped_kfood/구이/닭갈비/\n"
     ]
    },
    {
     "name": "stderr",
     "output_type": "stream",
     "text": [
      "100%|██████████| 104/104 [00:01<00:00, 78.24it/s]\n",
      " 16%|█▌        | 160/1002 [00:00<00:00, 1590.30it/s]"
     ]
    },
    {
     "name": "stdout",
     "output_type": "stream",
     "text": [
      "crop 끝\n",
      "\n",
      "\n",
      "crop을 하지 않은 이미지를 복사 중입니다.\n",
      "잠시만 기다려 주세요\n"
     ]
    },
    {
     "name": "stderr",
     "output_type": "stream",
     "text": [
      "100%|██████████| 1002/1002 [00:00<00:00, 1299.45it/s]\n",
      "  4%|▍         | 15/334 [00:00<00:02, 148.30it/s]"
     ]
    },
    {
     "name": "stdout",
     "output_type": "stream",
     "text": [
      "crop_area 파일 수집중\n",
      "crop 시작\n",
      "sub 디렉토리 생성 :  ../test/cropped_kfood/구이/불고기/\n"
     ]
    },
    {
     "name": "stderr",
     "output_type": "stream",
     "text": [
      "100%|██████████| 334/334 [00:03<00:00, 110.28it/s]\n",
      " 15%|█▍        | 147/1002 [00:00<00:00, 866.25it/s]"
     ]
    },
    {
     "name": "stdout",
     "output_type": "stream",
     "text": [
      "crop 끝\n",
      "\n",
      "\n",
      "crop을 하지 않은 이미지를 복사 중입니다.\n",
      "잠시만 기다려 주세요\n"
     ]
    },
    {
     "name": "stderr",
     "output_type": "stream",
     "text": [
      "100%|██████████| 1002/1002 [00:04<00:00, 207.37it/s]\n",
      " 14%|█▎        | 19/139 [00:00<00:00, 188.02it/s]"
     ]
    },
    {
     "name": "stdout",
     "output_type": "stream",
     "text": [
      "crop_area 파일 수집중\n",
      "crop 시작\n",
      "sub 디렉토리 생성 :  ../test/cropped_kfood/구이/조개구이/\n"
     ]
    },
    {
     "name": "stderr",
     "output_type": "stream",
     "text": [
      "100%|██████████| 139/139 [00:00<00:00, 199.82it/s]\n",
      " 25%|██▌       | 255/1002 [00:00<00:00, 2534.23it/s]"
     ]
    },
    {
     "name": "stdout",
     "output_type": "stream",
     "text": [
      "crop 끝\n",
      "\n",
      "\n",
      "crop을 하지 않은 이미지를 복사 중입니다.\n",
      "잠시만 기다려 주세요\n"
     ]
    },
    {
     "name": "stderr",
     "output_type": "stream",
     "text": [
      "100%|██████████| 1002/1002 [00:00<00:00, 2419.78it/s]\n",
      "  0%|          | 0/117 [00:00<?, ?it/s]/home/aiffel0042/anaconda3/envs/aiffel/lib/python3.7/site-packages/PIL/TiffImagePlugin.py:766: UserWarning: Possibly corrupt EXIF data.  Expecting to read 8 bytes but only got 2. Skipping tag 37386\n",
      "  \" Skipping tag %s\" % (size, len(data), tag)\n",
      "/home/aiffel0042/anaconda3/envs/aiffel/lib/python3.7/site-packages/PIL/TiffImagePlugin.py:766: UserWarning: Possibly corrupt EXIF data.  Expecting to read 8 bytes but only got 0. Skipping tag 37396\n",
      "  \" Skipping tag %s\" % (size, len(data), tag)\n",
      "  9%|▊         | 10/117 [00:00<00:01, 98.67it/s]"
     ]
    },
    {
     "name": "stdout",
     "output_type": "stream",
     "text": [
      "crop_area 파일 수집중\n",
      "crop 시작\n",
      "sub 디렉토리 생성 :  ../test/cropped_kfood/구이/황태구이/\n"
     ]
    },
    {
     "name": "stderr",
     "output_type": "stream",
     "text": [
      "100%|██████████| 117/117 [00:00<00:00, 123.37it/s]\n",
      " 23%|██▎       | 228/1002 [00:00<00:00, 2169.89it/s]"
     ]
    },
    {
     "name": "stdout",
     "output_type": "stream",
     "text": [
      "crop 끝\n",
      "\n",
      "\n",
      "crop을 하지 않은 이미지를 복사 중입니다.\n",
      "잠시만 기다려 주세요\n"
     ]
    },
    {
     "name": "stderr",
     "output_type": "stream",
     "text": [
      "100%|██████████| 1002/1002 [00:00<00:00, 2186.48it/s]\n",
      " 12%|█▏        | 13/112 [00:00<00:00, 127.16it/s]"
     ]
    },
    {
     "name": "stdout",
     "output_type": "stream",
     "text": [
      "crop_area 파일 수집중\n",
      "crop 시작\n",
      "sub 디렉토리 생성 :  ../test/cropped_kfood/구이/더덕구이/\n"
     ]
    },
    {
     "name": "stderr",
     "output_type": "stream",
     "text": [
      "100%|██████████| 112/112 [00:00<00:00, 131.45it/s]\n",
      " 23%|██▎       | 232/1002 [00:00<00:00, 2314.79it/s]"
     ]
    },
    {
     "name": "stdout",
     "output_type": "stream",
     "text": [
      "crop 끝\n",
      "\n",
      "\n",
      "crop을 하지 않은 이미지를 복사 중입니다.\n",
      "잠시만 기다려 주세요\n"
     ]
    },
    {
     "name": "stderr",
     "output_type": "stream",
     "text": [
      "100%|██████████| 1002/1002 [00:00<00:00, 2175.33it/s]\n",
      " 10%|▉         | 12/125 [00:00<00:00, 116.42it/s]"
     ]
    },
    {
     "name": "stdout",
     "output_type": "stream",
     "text": [
      "crop_area 파일 수집중\n",
      "crop 시작\n",
      "sub 디렉토리 생성 :  ../test/cropped_kfood/구이/장어구이/\n"
     ]
    },
    {
     "name": "stderr",
     "output_type": "stream",
     "text": [
      "100%|██████████| 125/125 [00:01<00:00, 76.50it/s]\n",
      " 18%|█▊        | 184/1002 [00:00<00:00, 1835.56it/s]"
     ]
    },
    {
     "name": "stdout",
     "output_type": "stream",
     "text": [
      "crop 끝\n",
      "\n",
      "\n",
      "crop을 하지 않은 이미지를 복사 중입니다.\n",
      "잠시만 기다려 주세요\n"
     ]
    },
    {
     "name": "stderr",
     "output_type": "stream",
     "text": [
      "100%|██████████| 1002/1002 [00:00<00:00, 1482.07it/s]\n",
      "  1%|          | 2/279 [00:00<00:22, 12.56it/s]"
     ]
    },
    {
     "name": "stdout",
     "output_type": "stream",
     "text": [
      "crop_area 파일 수집중\n",
      "crop 시작\n",
      "sub 디렉토리 생성 :  ../test/cropped_kfood/구이/떡갈비/\n"
     ]
    },
    {
     "name": "stderr",
     "output_type": "stream",
     "text": [
      "100%|██████████| 279/279 [00:02<00:00, 103.56it/s]\n",
      " 22%|██▏       | 223/1002 [00:00<00:00, 2218.60it/s]"
     ]
    },
    {
     "name": "stdout",
     "output_type": "stream",
     "text": [
      "crop 끝\n",
      "\n",
      "\n",
      "crop을 하지 않은 이미지를 복사 중입니다.\n",
      "잠시만 기다려 주세요\n"
     ]
    },
    {
     "name": "stderr",
     "output_type": "stream",
     "text": [
      "100%|██████████| 1002/1002 [00:00<00:00, 2247.76it/s]\n",
      "  8%|▊         | 17/221 [00:00<00:01, 166.86it/s]"
     ]
    },
    {
     "name": "stdout",
     "output_type": "stream",
     "text": [
      "crop_area 파일 수집중\n",
      "crop 시작\n",
      "sub 디렉토리 생성 :  ../test/cropped_kfood/구이/훈제오리/\n"
     ]
    },
    {
     "name": "stderr",
     "output_type": "stream",
     "text": [
      "100%|██████████| 221/221 [00:01<00:00, 173.70it/s]\n",
      " 19%|█▉        | 194/1003 [00:00<00:00, 1924.98it/s]"
     ]
    },
    {
     "name": "stdout",
     "output_type": "stream",
     "text": [
      "crop 끝\n",
      "\n",
      "\n",
      "crop을 하지 않은 이미지를 복사 중입니다.\n",
      "잠시만 기다려 주세요\n"
     ]
    },
    {
     "name": "stderr",
     "output_type": "stream",
     "text": [
      "100%|██████████| 1003/1003 [00:00<00:00, 2423.37it/s]\n",
      "  4%|▍         | 10/225 [00:00<00:02, 92.95it/s]"
     ]
    },
    {
     "name": "stdout",
     "output_type": "stream",
     "text": [
      "crop_area 파일 수집중\n",
      "crop 시작\n",
      "sub 디렉토리 생성 :  ../test/cropped_kfood/구이/갈비구이/\n"
     ]
    },
    {
     "name": "stderr",
     "output_type": "stream",
     "text": [
      "100%|██████████| 225/225 [00:01<00:00, 126.20it/s]\n",
      " 29%|██▉       | 289/1002 [00:00<00:00, 2884.44it/s]"
     ]
    },
    {
     "name": "stdout",
     "output_type": "stream",
     "text": [
      "crop 끝\n",
      "\n",
      "\n",
      "crop을 하지 않은 이미지를 복사 중입니다.\n",
      "잠시만 기다려 주세요\n"
     ]
    },
    {
     "name": "stderr",
     "output_type": "stream",
     "text": [
      "100%|██████████| 1002/1002 [00:00<00:00, 1836.01it/s]\n",
      " 30%|███       | 22/73 [00:00<00:00, 217.68it/s]"
     ]
    },
    {
     "name": "stdout",
     "output_type": "stream",
     "text": [
      "crop_area 파일 수집중\n",
      "crop 시작\n",
      "sub 디렉토리 생성 :  ../test/cropped_kfood/구이/조기구이/\n"
     ]
    },
    {
     "name": "stderr",
     "output_type": "stream",
     "text": [
      "100%|██████████| 73/73 [00:00<00:00, 224.34it/s]\n",
      " 28%|██▊       | 280/1002 [00:00<00:00, 2783.01it/s]"
     ]
    },
    {
     "name": "stdout",
     "output_type": "stream",
     "text": [
      "crop 끝\n",
      "\n",
      "\n",
      "crop을 하지 않은 이미지를 복사 중입니다.\n",
      "잠시만 기다려 주세요\n"
     ]
    },
    {
     "name": "stderr",
     "output_type": "stream",
     "text": [
      "100%|██████████| 1002/1002 [00:00<00:00, 1230.63it/s]\n",
      "  9%|▉         | 13/147 [00:00<00:01, 121.87it/s]"
     ]
    },
    {
     "name": "stdout",
     "output_type": "stream",
     "text": [
      "\n",
      "\n",
      "\n",
      "------------------------------\n",
      "조림처리중\n",
      "main 디렉토리 생성 :  ../test/cropped_kfood/조림/\n",
      "crop_area 파일 수집중\n",
      "crop 시작\n",
      "sub 디렉토리 생성 :  ../test/cropped_kfood/조림/메추리알장조림/\n"
     ]
    },
    {
     "name": "stderr",
     "output_type": "stream",
     "text": [
      "100%|██████████| 147/147 [00:00<00:00, 185.25it/s]\n",
      " 24%|██▍       | 245/1003 [00:00<00:00, 2408.90it/s]"
     ]
    },
    {
     "name": "stdout",
     "output_type": "stream",
     "text": [
      "crop 끝\n",
      "\n",
      "\n",
      "crop을 하지 않은 이미지를 복사 중입니다.\n",
      "잠시만 기다려 주세요\n"
     ]
    },
    {
     "name": "stderr",
     "output_type": "stream",
     "text": [
      "100%|██████████| 1003/1003 [00:04<00:00, 206.36it/s]\n",
      "100%|██████████| 44/44 [00:00<00:00, 228.68it/s]\n",
      "  0%|          | 0/1003 [00:00<?, ?it/s]"
     ]
    },
    {
     "name": "stdout",
     "output_type": "stream",
     "text": [
      "crop_area 파일 수집중\n",
      "crop 시작\n",
      "sub 디렉토리 생성 :  ../test/cropped_kfood/조림/감자조림/\n",
      "crop 끝\n",
      "\n",
      "\n",
      "crop을 하지 않은 이미지를 복사 중입니다.\n",
      "잠시만 기다려 주세요\n"
     ]
    },
    {
     "name": "stderr",
     "output_type": "stream",
     "text": [
      "100%|██████████| 1003/1003 [00:00<00:00, 2619.36it/s]\n",
      "  4%|▍         | 15/334 [00:00<00:02, 143.40it/s]"
     ]
    },
    {
     "name": "stdout",
     "output_type": "stream",
     "text": [
      "crop_area 파일 수집중\n",
      "crop 시작\n",
      "sub 디렉토리 생성 :  ../test/cropped_kfood/조림/땅콩조림/\n"
     ]
    },
    {
     "name": "stderr",
     "output_type": "stream",
     "text": [
      "100%|██████████| 334/334 [00:01<00:00, 199.79it/s]\n",
      " 76%|███████▌  | 762/1003 [00:00<00:00, 3767.33it/s]"
     ]
    },
    {
     "name": "stdout",
     "output_type": "stream",
     "text": [
      "crop 끝\n",
      "\n",
      "\n",
      "crop을 하지 않은 이미지를 복사 중입니다.\n",
      "잠시만 기다려 주세요\n"
     ]
    },
    {
     "name": "stderr",
     "output_type": "stream",
     "text": [
      "100%|██████████| 1003/1003 [00:00<00:00, 3847.24it/s]\n",
      "  7%|▋         | 11/161 [00:00<00:01, 107.80it/s]"
     ]
    },
    {
     "name": "stdout",
     "output_type": "stream",
     "text": [
      "crop_area 파일 수집중\n",
      "crop 시작\n",
      "sub 디렉토리 생성 :  ../test/cropped_kfood/조림/코다리조림/\n"
     ]
    },
    {
     "name": "stderr",
     "output_type": "stream",
     "text": [
      "100%|██████████| 161/161 [00:01<00:00, 152.71it/s]\n",
      " 40%|███▉      | 450/1132 [00:00<00:00, 2274.61it/s]"
     ]
    },
    {
     "name": "stdout",
     "output_type": "stream",
     "text": [
      "crop 끝\n",
      "\n",
      "\n",
      "crop을 하지 않은 이미지를 복사 중입니다.\n",
      "잠시만 기다려 주세요\n"
     ]
    },
    {
     "name": "stderr",
     "output_type": "stream",
     "text": [
      "100%|██████████| 1132/1132 [00:00<00:00, 2213.01it/s]\n",
      " 10%|█         | 17/163 [00:00<00:00, 161.34it/s]"
     ]
    },
    {
     "name": "stdout",
     "output_type": "stream",
     "text": [
      "crop_area 파일 수집중\n",
      "crop 시작\n",
      "sub 디렉토리 생성 :  ../test/cropped_kfood/조림/우엉조림/\n"
     ]
    },
    {
     "name": "stderr",
     "output_type": "stream",
     "text": [
      "100%|██████████| 163/163 [00:01<00:00, 151.89it/s]\n",
      " 22%|██▏       | 224/1006 [00:00<00:00, 2233.53it/s]"
     ]
    },
    {
     "name": "stdout",
     "output_type": "stream",
     "text": [
      "crop 끝\n",
      "\n",
      "\n",
      "crop을 하지 않은 이미지를 복사 중입니다.\n",
      "잠시만 기다려 주세요\n"
     ]
    },
    {
     "name": "stderr",
     "output_type": "stream",
     "text": [
      "100%|██████████| 1006/1006 [00:00<00:00, 2071.04it/s]\n",
      "  7%|▋         | 11/158 [00:00<00:01, 109.32it/s]"
     ]
    },
    {
     "name": "stdout",
     "output_type": "stream",
     "text": [
      "crop_area 파일 수집중\n",
      "crop 시작\n",
      "sub 디렉토리 생성 :  ../test/cropped_kfood/조림/연근조림/\n"
     ]
    },
    {
     "name": "stderr",
     "output_type": "stream",
     "text": [
      "100%|██████████| 158/158 [00:00<00:00, 235.22it/s]\n",
      " 57%|█████▋    | 567/1002 [00:00<00:00, 2775.09it/s]"
     ]
    },
    {
     "name": "stdout",
     "output_type": "stream",
     "text": [
      "crop 끝\n",
      "\n",
      "\n",
      "crop을 하지 않은 이미지를 복사 중입니다.\n",
      "잠시만 기다려 주세요\n"
     ]
    },
    {
     "name": "stderr",
     "output_type": "stream",
     "text": [
      "100%|██████████| 1002/1002 [00:00<00:00, 2951.01it/s]\n",
      "  7%|▋         | 11/161 [00:00<00:01, 99.18it/s]"
     ]
    },
    {
     "name": "stdout",
     "output_type": "stream",
     "text": [
      "crop_area 파일 수집중\n",
      "crop 시작\n",
      "sub 디렉토리 생성 :  ../test/cropped_kfood/조림/꽁치조림/\n"
     ]
    },
    {
     "name": "stderr",
     "output_type": "stream",
     "text": [
      "100%|██████████| 161/161 [00:00<00:00, 199.43it/s]\n",
      " 25%|██▌       | 253/1002 [00:00<00:00, 2518.75it/s]"
     ]
    },
    {
     "name": "stdout",
     "output_type": "stream",
     "text": [
      "crop 끝\n",
      "\n",
      "\n",
      "crop을 하지 않은 이미지를 복사 중입니다.\n",
      "잠시만 기다려 주세요\n"
     ]
    },
    {
     "name": "stderr",
     "output_type": "stream",
     "text": [
      "100%|██████████| 1002/1002 [00:00<00:00, 2668.43it/s]\n",
      "100%|██████████| 11/11 [00:00<00:00, 138.26it/s]\n",
      " 13%|█▎        | 128/1007 [00:00<00:00, 1277.93it/s]"
     ]
    },
    {
     "name": "stdout",
     "output_type": "stream",
     "text": [
      "crop_area 파일 수집중\n",
      "crop 시작\n",
      "sub 디렉토리 생성 :  ../test/cropped_kfood/조림/갈치조림/\n",
      "crop 끝\n",
      "\n",
      "\n",
      "crop을 하지 않은 이미지를 복사 중입니다.\n",
      "잠시만 기다려 주세요\n"
     ]
    },
    {
     "name": "stderr",
     "output_type": "stream",
     "text": [
      "100%|██████████| 1007/1007 [00:00<00:00, 1269.49it/s]\n",
      "  3%|▎         | 15/551 [00:00<00:03, 140.55it/s]"
     ]
    },
    {
     "name": "stdout",
     "output_type": "stream",
     "text": [
      "crop_area 파일 수집중\n",
      "crop 시작\n",
      "sub 디렉토리 생성 :  ../test/cropped_kfood/조림/두부조림/\n"
     ]
    },
    {
     "name": "stderr",
     "output_type": "stream",
     "text": [
      " 30%|███       | 167/551 [00:01<00:03, 118.35it/s]/home/aiffel0042/anaconda3/envs/aiffel/lib/python3.7/site-packages/PIL/TiffImagePlugin.py:766: UserWarning: Possibly corrupt EXIF data.  Expecting to read 1498 bytes but only got 0. Skipping tag 37500\n",
      "  \" Skipping tag %s\" % (size, len(data), tag)\n",
      "100%|██████████| 551/551 [00:03<00:00, 159.80it/s]\n",
      " 33%|███▎      | 336/1003 [00:00<00:00, 3359.20it/s]"
     ]
    },
    {
     "name": "stdout",
     "output_type": "stream",
     "text": [
      "crop 끝\n",
      "\n",
      "\n",
      "crop을 하지 않은 이미지를 복사 중입니다.\n",
      "잠시만 기다려 주세요\n"
     ]
    },
    {
     "name": "stderr",
     "output_type": "stream",
     "text": [
      "100%|██████████| 1003/1003 [00:00<00:00, 4149.31it/s]\n",
      " 13%|█▎        | 10/76 [00:00<00:00, 95.76it/s]"
     ]
    },
    {
     "name": "stdout",
     "output_type": "stream",
     "text": [
      "crop_area 파일 수집중\n",
      "crop 시작\n",
      "sub 디렉토리 생성 :  ../test/cropped_kfood/조림/고등어조림/\n"
     ]
    },
    {
     "name": "stderr",
     "output_type": "stream",
     "text": [
      "100%|██████████| 76/76 [00:00<00:00, 128.29it/s]\n",
      "  4%|▍         | 39/1002 [00:00<00:03, 319.77it/s]"
     ]
    },
    {
     "name": "stdout",
     "output_type": "stream",
     "text": [
      "crop 끝\n",
      "\n",
      "\n",
      "crop을 하지 않은 이미지를 복사 중입니다.\n",
      "잠시만 기다려 주세요\n"
     ]
    },
    {
     "name": "stderr",
     "output_type": "stream",
     "text": [
      "100%|██████████| 1002/1002 [00:01<00:00, 869.79it/s]\n",
      "  2%|▏         | 16/761 [00:00<00:04, 157.32it/s]"
     ]
    },
    {
     "name": "stdout",
     "output_type": "stream",
     "text": [
      "crop_area 파일 수집중\n",
      "crop 시작\n",
      "sub 디렉토리 생성 :  ../test/cropped_kfood/조림/장조림/\n"
     ]
    },
    {
     "name": "stderr",
     "output_type": "stream",
     "text": [
      "100%|██████████| 761/761 [00:03<00:00, 205.20it/s]\n",
      "100%|██████████| 1006/1006 [00:00<00:00, 7843.06it/s]\n",
      "  0%|          | 0/290 [00:00<?, ?it/s]"
     ]
    },
    {
     "name": "stdout",
     "output_type": "stream",
     "text": [
      "crop 끝\n",
      "\n",
      "\n",
      "crop을 하지 않은 이미지를 복사 중입니다.\n",
      "잠시만 기다려 주세요\n",
      "\n",
      "\n",
      "\n",
      "------------------------------\n",
      "한과처리중\n",
      "main 디렉토리 생성 :  ../test/cropped_kfood/한과/\n",
      "crop_area 파일 수집중\n",
      "crop 시작\n",
      "sub 디렉토리 생성 :  ../test/cropped_kfood/한과/약과/\n"
     ]
    },
    {
     "name": "stderr",
     "output_type": "stream",
     "text": [
      "100%|██████████| 290/290 [00:05<00:00, 57.57it/s] \n",
      " 25%|██▌       | 255/1005 [00:00<00:00, 2543.30it/s]"
     ]
    },
    {
     "name": "stdout",
     "output_type": "stream",
     "text": [
      "crop 끝\n",
      "\n",
      "\n",
      "crop을 하지 않은 이미지를 복사 중입니다.\n",
      "잠시만 기다려 주세요\n"
     ]
    },
    {
     "name": "stderr",
     "output_type": "stream",
     "text": [
      "100%|██████████| 1005/1005 [00:00<00:00, 3011.39it/s]\n",
      " 14%|█▍        | 27/190 [00:00<00:00, 258.67it/s]"
     ]
    },
    {
     "name": "stdout",
     "output_type": "stream",
     "text": [
      "crop_area 파일 수집중\n",
      "crop 시작\n",
      "sub 디렉토리 생성 :  ../test/cropped_kfood/한과/한과/\n"
     ]
    },
    {
     "name": "stderr",
     "output_type": "stream",
     "text": [
      "100%|██████████| 190/190 [00:00<00:00, 247.22it/s]\n",
      " 32%|███▏      | 322/1012 [00:00<00:00, 3212.77it/s]"
     ]
    },
    {
     "name": "stdout",
     "output_type": "stream",
     "text": [
      "crop 끝\n",
      "\n",
      "\n",
      "crop을 하지 않은 이미지를 복사 중입니다.\n",
      "잠시만 기다려 주세요\n"
     ]
    },
    {
     "name": "stderr",
     "output_type": "stream",
     "text": [
      "100%|██████████| 1012/1012 [00:00<00:00, 2563.24it/s]\n",
      " 70%|███████   | 119/170 [00:00<00:00, 1165.51it/s]"
     ]
    },
    {
     "name": "stdout",
     "output_type": "stream",
     "text": [
      "crop_area 파일 수집중\n",
      "crop 시작\n",
      "sub 디렉토리 생성 :  ../test/cropped_kfood/한과/약식/\n"
     ]
    },
    {
     "name": "stderr",
     "output_type": "stream",
     "text": [
      "100%|██████████| 170/170 [00:00<00:00, 377.61it/s] \n",
      " 25%|██▌       | 252/1007 [00:00<00:00, 2509.02it/s]"
     ]
    },
    {
     "name": "stdout",
     "output_type": "stream",
     "text": [
      "crop 끝\n",
      "\n",
      "\n",
      "crop을 하지 않은 이미지를 복사 중입니다.\n",
      "잠시만 기다려 주세요\n"
     ]
    },
    {
     "name": "stderr",
     "output_type": "stream",
     "text": [
      "100%|██████████| 1007/1007 [00:00<00:00, 2055.17it/s]\n",
      "  4%|▍         | 12/314 [00:00<00:02, 113.09it/s]"
     ]
    },
    {
     "name": "stdout",
     "output_type": "stream",
     "text": [
      "\n",
      "\n",
      "\n",
      "------------------------------\n",
      "음청류처리중\n",
      "main 디렉토리 생성 :  ../test/cropped_kfood/음청류/\n",
      "crop_area 파일 수집중\n",
      "crop 시작\n",
      "sub 디렉토리 생성 :  ../test/cropped_kfood/음청류/수정과/\n"
     ]
    },
    {
     "name": "stderr",
     "output_type": "stream",
     "text": [
      "100%|██████████| 314/314 [00:01<00:00, 201.43it/s]\n",
      " 29%|██▉       | 289/1002 [00:00<00:00, 2882.33it/s]"
     ]
    },
    {
     "name": "stdout",
     "output_type": "stream",
     "text": [
      "crop 끝\n",
      "\n",
      "\n",
      "crop을 하지 않은 이미지를 복사 중입니다.\n",
      "잠시만 기다려 주세요\n"
     ]
    },
    {
     "name": "stderr",
     "output_type": "stream",
     "text": [
      "100%|██████████| 1002/1002 [00:00<00:00, 3087.94it/s]\n",
      "  5%|▌         | 15/277 [00:00<00:01, 147.27it/s]"
     ]
    },
    {
     "name": "stdout",
     "output_type": "stream",
     "text": [
      "crop_area 파일 수집중\n",
      "crop 시작\n",
      "sub 디렉토리 생성 :  ../test/cropped_kfood/음청류/식혜/\n"
     ]
    },
    {
     "name": "stderr",
     "output_type": "stream",
     "text": [
      "100%|██████████| 277/277 [00:01<00:00, 187.99it/s]\n",
      " 33%|███▎      | 335/1004 [00:00<00:00, 3340.22it/s]"
     ]
    },
    {
     "name": "stdout",
     "output_type": "stream",
     "text": [
      "crop 끝\n",
      "\n",
      "\n",
      "crop을 하지 않은 이미지를 복사 중입니다.\n",
      "잠시만 기다려 주세요\n"
     ]
    },
    {
     "name": "stderr",
     "output_type": "stream",
     "text": [
      "100%|██████████| 1004/1004 [00:00<00:00, 3143.20it/s]\n",
      "  6%|▌         | 9/159 [00:00<00:01, 76.14it/s]"
     ]
    },
    {
     "name": "stdout",
     "output_type": "stream",
     "text": [
      "\n",
      "\n",
      "\n",
      "------------------------------\n",
      "장아찌처리중\n",
      "main 디렉토리 생성 :  ../test/cropped_kfood/장아찌/\n",
      "crop_area 파일 수집중\n",
      "crop 시작\n",
      "sub 디렉토리 생성 :  ../test/cropped_kfood/장아찌/깻잎장아찌/\n"
     ]
    },
    {
     "name": "stderr",
     "output_type": "stream",
     "text": [
      "100%|██████████| 159/159 [00:00<00:00, 176.34it/s]\n",
      " 18%|█▊        | 177/1004 [00:00<00:00, 1765.29it/s]"
     ]
    },
    {
     "name": "stdout",
     "output_type": "stream",
     "text": [
      "crop 끝\n",
      "\n",
      "\n",
      "crop을 하지 않은 이미지를 복사 중입니다.\n",
      "잠시만 기다려 주세요\n"
     ]
    },
    {
     "name": "stderr",
     "output_type": "stream",
     "text": [
      "100%|██████████| 1004/1004 [00:00<00:00, 2181.06it/s]\n",
      "  3%|▎         | 25/778 [00:00<00:03, 239.29it/s]"
     ]
    },
    {
     "name": "stdout",
     "output_type": "stream",
     "text": [
      "\n",
      "\n",
      "\n",
      "------------------------------\n",
      "죽처리중\n",
      "main 디렉토리 생성 :  ../test/cropped_kfood/죽/\n",
      "crop_area 파일 수집중\n",
      "crop 시작\n",
      "sub 디렉토리 생성 :  ../test/cropped_kfood/죽/호박죽/\n"
     ]
    },
    {
     "name": "stderr",
     "output_type": "stream",
     "text": [
      "100%|██████████| 778/778 [00:03<00:00, 219.35it/s]\n",
      "100%|██████████| 1002/1002 [00:00<00:00, 13092.09it/s]\n",
      "  3%|▎         | 24/703 [00:00<00:02, 229.43it/s]"
     ]
    },
    {
     "name": "stdout",
     "output_type": "stream",
     "text": [
      "crop 끝\n",
      "\n",
      "\n",
      "crop을 하지 않은 이미지를 복사 중입니다.\n",
      "잠시만 기다려 주세요\n",
      "crop_area 파일 수집중\n",
      "crop 시작\n",
      "sub 디렉토리 생성 :  ../test/cropped_kfood/죽/전복죽/\n"
     ]
    },
    {
     "name": "stderr",
     "output_type": "stream",
     "text": [
      "100%|██████████| 703/703 [00:03<00:00, 205.74it/s]\n",
      "100%|██████████| 1002/1002 [00:00<00:00, 9025.70it/s]\n",
      "  0%|          | 0/434 [00:00<?, ?it/s]"
     ]
    },
    {
     "name": "stdout",
     "output_type": "stream",
     "text": [
      "crop 끝\n",
      "\n",
      "\n",
      "crop을 하지 않은 이미지를 복사 중입니다.\n",
      "잠시만 기다려 주세요\n",
      "\n",
      "\n",
      "\n",
      "------------------------------\n",
      "해물처리중\n",
      "main 디렉토리 생성 :  ../test/cropped_kfood/해물/\n",
      "crop_area 파일 수집중\n",
      "crop 시작\n",
      "sub 디렉토리 생성 :  ../test/cropped_kfood/해물/산낙지/\n"
     ]
    },
    {
     "name": "stderr",
     "output_type": "stream",
     "text": [
      "100%|██████████| 434/434 [00:01<00:00, 237.51it/s]\n",
      " 83%|████████▎ | 882/1067 [00:00<00:00, 4379.51it/s]"
     ]
    },
    {
     "name": "stdout",
     "output_type": "stream",
     "text": [
      "crop 끝\n",
      "\n",
      "\n",
      "crop을 하지 않은 이미지를 복사 중입니다.\n",
      "잠시만 기다려 주세요\n"
     ]
    },
    {
     "name": "stderr",
     "output_type": "stream",
     "text": [
      "100%|██████████| 1067/1067 [00:00<00:00, 4424.68it/s]\n",
      "  4%|▍         | 27/688 [00:00<00:02, 265.86it/s]"
     ]
    },
    {
     "name": "stdout",
     "output_type": "stream",
     "text": [
      "crop_area 파일 수집중\n",
      "crop 시작\n",
      "sub 디렉토리 생성 :  ../test/cropped_kfood/해물/멍게/\n"
     ]
    },
    {
     "name": "stderr",
     "output_type": "stream",
     "text": [
      "100%|██████████| 688/688 [00:02<00:00, 263.90it/s]\n",
      "100%|██████████| 1091/1091 [00:00<00:00, 6223.31it/s]\n",
      "  0%|          | 0/210 [00:00<?, ?it/s]"
     ]
    },
    {
     "name": "stdout",
     "output_type": "stream",
     "text": [
      "crop 끝\n",
      "\n",
      "\n",
      "crop을 하지 않은 이미지를 복사 중입니다.\n",
      "잠시만 기다려 주세요\n",
      "\n",
      "\n",
      "\n",
      "------------------------------\n",
      "전처리중\n",
      "main 디렉토리 생성 :  ../test/cropped_kfood/전/\n",
      "crop_area 파일 수집중\n",
      "crop 시작\n",
      "sub 디렉토리 생성 :  ../test/cropped_kfood/전/계란말이/\n"
     ]
    },
    {
     "name": "stderr",
     "output_type": "stream",
     "text": [
      "100%|██████████| 210/210 [00:01<00:00, 152.52it/s]\n",
      " 24%|██▍       | 241/1004 [00:00<00:00, 2389.46it/s]"
     ]
    },
    {
     "name": "stdout",
     "output_type": "stream",
     "text": [
      "crop 끝\n",
      "\n",
      "\n",
      "crop을 하지 않은 이미지를 복사 중입니다.\n",
      "잠시만 기다려 주세요\n"
     ]
    },
    {
     "name": "stderr",
     "output_type": "stream",
     "text": [
      "100%|██████████| 1004/1004 [00:00<00:00, 2735.47it/s]\n",
      "  6%|▌         | 12/215 [00:00<00:01, 118.08it/s]"
     ]
    },
    {
     "name": "stdout",
     "output_type": "stream",
     "text": [
      "crop_area 파일 수집중\n",
      "crop 시작\n",
      "sub 디렉토리 생성 :  ../test/cropped_kfood/전/감자전/\n"
     ]
    },
    {
     "name": "stderr",
     "output_type": "stream",
     "text": [
      "100%|██████████| 215/215 [00:00<00:00, 216.78it/s]\n",
      " 29%|██▊       | 286/1003 [00:00<00:00, 2850.73it/s]"
     ]
    },
    {
     "name": "stdout",
     "output_type": "stream",
     "text": [
      "crop 끝\n",
      "\n",
      "\n",
      "crop을 하지 않은 이미지를 복사 중입니다.\n",
      "잠시만 기다려 주세요\n"
     ]
    },
    {
     "name": "stderr",
     "output_type": "stream",
     "text": [
      "100%|██████████| 1003/1003 [00:00<00:00, 2501.37it/s]\n",
      "  2%|▏         | 15/914 [00:00<00:06, 143.18it/s]"
     ]
    },
    {
     "name": "stdout",
     "output_type": "stream",
     "text": [
      "crop_area 파일 수집중\n",
      "crop 시작\n",
      "sub 디렉토리 생성 :  ../test/cropped_kfood/전/생선전/\n"
     ]
    },
    {
     "name": "stderr",
     "output_type": "stream",
     "text": [
      "100%|██████████| 914/914 [00:07<00:00, 128.79it/s]\n",
      "100%|██████████| 1003/1003 [00:00<00:00, 22677.66it/s]\n",
      "  5%|▍         | 10/207 [00:00<00:02, 91.76it/s]"
     ]
    },
    {
     "name": "stdout",
     "output_type": "stream",
     "text": [
      "crop 끝\n",
      "\n",
      "\n",
      "crop을 하지 않은 이미지를 복사 중입니다.\n",
      "잠시만 기다려 주세요\n",
      "crop_area 파일 수집중\n",
      "crop 시작\n",
      "sub 디렉토리 생성 :  ../test/cropped_kfood/전/김치전/\n"
     ]
    },
    {
     "name": "stderr",
     "output_type": "stream",
     "text": [
      "100%|██████████| 207/207 [00:01<00:00, 151.52it/s]\n",
      " 18%|█▊        | 183/1003 [00:00<00:00, 1821.66it/s]"
     ]
    },
    {
     "name": "stdout",
     "output_type": "stream",
     "text": [
      "crop 끝\n",
      "\n",
      "\n",
      "crop을 하지 않은 이미지를 복사 중입니다.\n",
      "잠시만 기다려 주세요\n"
     ]
    },
    {
     "name": "stderr",
     "output_type": "stream",
     "text": [
      "100%|██████████| 1003/1003 [00:00<00:00, 1073.25it/s]\n",
      "  3%|▎         | 19/573 [00:00<00:02, 186.52it/s]"
     ]
    },
    {
     "name": "stdout",
     "output_type": "stream",
     "text": [
      "crop_area 파일 수집중\n",
      "crop 시작\n",
      "sub 디렉토리 생성 :  ../test/cropped_kfood/전/계란후라이/\n"
     ]
    },
    {
     "name": "stderr",
     "output_type": "stream",
     "text": [
      "100%|██████████| 573/573 [00:02<00:00, 221.03it/s]\n",
      " 46%|████▌     | 463/1004 [00:00<00:00, 4623.75it/s]"
     ]
    },
    {
     "name": "stdout",
     "output_type": "stream",
     "text": [
      "crop 끝\n",
      "\n",
      "\n",
      "crop을 하지 않은 이미지를 복사 중입니다.\n",
      "잠시만 기다려 주세요\n"
     ]
    },
    {
     "name": "stderr",
     "output_type": "stream",
     "text": [
      "100%|██████████| 1004/1004 [00:00<00:00, 4942.50it/s]\n",
      "  2%|▏         | 14/773 [00:00<00:05, 128.30it/s]"
     ]
    },
    {
     "name": "stdout",
     "output_type": "stream",
     "text": [
      "crop_area 파일 수집중\n",
      "crop 시작\n",
      "sub 디렉토리 생성 :  ../test/cropped_kfood/전/호박전/\n"
     ]
    },
    {
     "name": "stderr",
     "output_type": "stream",
     "text": [
      "100%|██████████| 773/773 [00:06<00:00, 127.68it/s]\n",
      "100%|██████████| 1002/1002 [00:00<00:00, 6515.25it/s]\n",
      "  0%|          | 0/385 [00:00<?, ?it/s]"
     ]
    },
    {
     "name": "stdout",
     "output_type": "stream",
     "text": [
      "crop 끝\n",
      "\n",
      "\n",
      "crop을 하지 않은 이미지를 복사 중입니다.\n",
      "잠시만 기다려 주세요\n",
      "crop_area 파일 수집중\n",
      "crop 시작\n",
      "sub 디렉토리 생성 :  ../test/cropped_kfood/전/동그랑땡/\n"
     ]
    },
    {
     "name": "stderr",
     "output_type": "stream",
     "text": [
      "100%|██████████| 385/385 [00:01<00:00, 258.51it/s]\n",
      " 41%|████▏     | 414/1002 [00:00<00:00, 4129.90it/s]"
     ]
    },
    {
     "name": "stdout",
     "output_type": "stream",
     "text": [
      "crop 끝\n",
      "\n",
      "\n",
      "crop을 하지 않은 이미지를 복사 중입니다.\n",
      "잠시만 기다려 주세요\n"
     ]
    },
    {
     "name": "stderr",
     "output_type": "stream",
     "text": [
      "100%|██████████| 1002/1002 [00:00<00:00, 4204.75it/s]\n",
      "  1%|          | 7/682 [00:00<00:10, 64.85it/s]"
     ]
    },
    {
     "name": "stdout",
     "output_type": "stream",
     "text": [
      "crop_area 파일 수집중\n",
      "crop 시작\n",
      "sub 디렉토리 생성 :  ../test/cropped_kfood/전/파전/\n"
     ]
    },
    {
     "name": "stderr",
     "output_type": "stream",
     "text": [
      "100%|██████████| 682/682 [00:06<00:00, 113.64it/s]\n",
      " 33%|███▎      | 328/1003 [00:00<00:00, 3254.65it/s]"
     ]
    },
    {
     "name": "stdout",
     "output_type": "stream",
     "text": [
      "crop 끝\n",
      "\n",
      "\n",
      "crop을 하지 않은 이미지를 복사 중입니다.\n",
      "잠시만 기다려 주세요\n"
     ]
    },
    {
     "name": "stderr",
     "output_type": "stream",
     "text": [
      "100%|██████████| 1003/1003 [00:00<00:00, 3835.10it/s]\n",
      " 10%|█         | 5/49 [00:00<00:00, 47.22it/s]"
     ]
    },
    {
     "name": "stdout",
     "output_type": "stream",
     "text": [
      "\n",
      "\n",
      "\n",
      "------------------------------\n",
      "찜처리중\n",
      "main 디렉토리 생성 :  ../test/cropped_kfood/찜/\n",
      "crop_area 파일 수집중\n",
      "crop 시작\n",
      "sub 디렉토리 생성 :  ../test/cropped_kfood/찜/닭볶음탕/\n"
     ]
    },
    {
     "name": "stderr",
     "output_type": "stream",
     "text": [
      "100%|██████████| 49/49 [00:00<00:00, 59.62it/s]\n",
      " 19%|█▉        | 191/1004 [00:00<00:00, 1893.97it/s]"
     ]
    },
    {
     "name": "stdout",
     "output_type": "stream",
     "text": [
      "crop 끝\n",
      "\n",
      "\n",
      "crop을 하지 않은 이미지를 복사 중입니다.\n",
      "잠시만 기다려 주세요\n"
     ]
    },
    {
     "name": "stderr",
     "output_type": "stream",
     "text": [
      "100%|██████████| 1004/1004 [00:00<00:00, 1612.22it/s]\n",
      " 11%|█▏        | 15/133 [00:00<00:01, 108.91it/s]"
     ]
    },
    {
     "name": "stdout",
     "output_type": "stream",
     "text": [
      "crop_area 파일 수집중\n",
      "crop 시작\n",
      "sub 디렉토리 생성 :  ../test/cropped_kfood/찜/갈비찜/\n"
     ]
    },
    {
     "name": "stderr",
     "output_type": "stream",
     "text": [
      "100%|██████████| 133/133 [00:01<00:00, 112.82it/s]\n",
      " 16%|█▌        | 158/1002 [00:00<00:00, 1573.18it/s]"
     ]
    },
    {
     "name": "stdout",
     "output_type": "stream",
     "text": [
      "crop 끝\n",
      "\n",
      "\n",
      "crop을 하지 않은 이미지를 복사 중입니다.\n",
      "잠시만 기다려 주세요\n"
     ]
    },
    {
     "name": "stderr",
     "output_type": "stream",
     "text": [
      "100%|██████████| 1002/1002 [00:00<00:00, 1102.90it/s]\n",
      "  6%|▌         | 6/109 [00:00<00:01, 57.74it/s]"
     ]
    },
    {
     "name": "stdout",
     "output_type": "stream",
     "text": [
      "crop_area 파일 수집중\n",
      "crop 시작\n",
      "sub 디렉토리 생성 :  ../test/cropped_kfood/찜/김치찜/\n"
     ]
    },
    {
     "name": "stderr",
     "output_type": "stream",
     "text": [
      "100%|██████████| 109/109 [00:00<00:00, 127.96it/s]\n",
      " 15%|█▍        | 147/1002 [00:00<00:00, 1386.50it/s]"
     ]
    },
    {
     "name": "stdout",
     "output_type": "stream",
     "text": [
      "crop 끝\n",
      "\n",
      "\n",
      "crop을 하지 않은 이미지를 복사 중입니다.\n",
      "잠시만 기다려 주세요\n"
     ]
    },
    {
     "name": "stderr",
     "output_type": "stream",
     "text": [
      "100%|██████████| 1002/1002 [00:01<00:00, 519.99it/s]\n",
      "  0%|          | 0/241 [00:00<?, ?it/s]"
     ]
    },
    {
     "name": "stdout",
     "output_type": "stream",
     "text": [
      "crop_area 파일 수집중\n",
      "crop 시작\n",
      "sub 디렉토리 생성 :  ../test/cropped_kfood/찜/족발/\n"
     ]
    },
    {
     "name": "stderr",
     "output_type": "stream",
     "text": [
      "100%|██████████| 241/241 [00:04<00:00, 50.49it/s] \n",
      " 24%|██▎       | 238/1003 [00:00<00:00, 2368.30it/s]"
     ]
    },
    {
     "name": "stdout",
     "output_type": "stream",
     "text": [
      "crop 끝\n",
      "\n",
      "\n",
      "crop을 하지 않은 이미지를 복사 중입니다.\n",
      "잠시만 기다려 주세요\n"
     ]
    },
    {
     "name": "stderr",
     "output_type": "stream",
     "text": [
      "100%|██████████| 1003/1003 [00:00<00:00, 1934.77it/s]\n",
      "  4%|▍         | 9/235 [00:00<00:02, 83.93it/s]"
     ]
    },
    {
     "name": "stdout",
     "output_type": "stream",
     "text": [
      "crop_area 파일 수집중\n",
      "crop 시작\n",
      "sub 디렉토리 생성 :  ../test/cropped_kfood/찜/해물찜/\n"
     ]
    },
    {
     "name": "stderr",
     "output_type": "stream",
     "text": [
      "100%|██████████| 235/235 [00:01<00:00, 135.14it/s]\n",
      " 17%|█▋        | 168/1003 [00:00<00:00, 1675.25it/s]"
     ]
    },
    {
     "name": "stdout",
     "output_type": "stream",
     "text": [
      "crop 끝\n",
      "\n",
      "\n",
      "crop을 하지 않은 이미지를 복사 중입니다.\n",
      "잠시만 기다려 주세요\n"
     ]
    },
    {
     "name": "stderr",
     "output_type": "stream",
     "text": [
      "100%|██████████| 1003/1003 [00:00<00:00, 1691.84it/s]\n",
      "  1%|          | 5/478 [00:00<00:09, 48.89it/s]"
     ]
    },
    {
     "name": "stdout",
     "output_type": "stream",
     "text": [
      "crop_area 파일 수집중\n",
      "crop 시작\n",
      "sub 디렉토리 생성 :  ../test/cropped_kfood/찜/순대/\n"
     ]
    },
    {
     "name": "stderr",
     "output_type": "stream",
     "text": [
      "100%|██████████| 478/478 [00:03<00:00, 139.64it/s]\n",
      " 23%|██▎       | 232/1005 [00:00<00:00, 2087.78it/s]"
     ]
    },
    {
     "name": "stdout",
     "output_type": "stream",
     "text": [
      "crop 끝\n",
      "\n",
      "\n",
      "crop을 하지 않은 이미지를 복사 중입니다.\n",
      "잠시만 기다려 주세요\n"
     ]
    },
    {
     "name": "stderr",
     "output_type": "stream",
     "text": [
      "100%|██████████| 1005/1005 [00:00<00:00, 2673.21it/s]\n",
      " 15%|█▌        | 15/97 [00:00<00:00, 135.75it/s]"
     ]
    },
    {
     "name": "stdout",
     "output_type": "stream",
     "text": [
      "crop_area 파일 수집중\n",
      "crop 시작\n",
      "sub 디렉토리 생성 :  ../test/cropped_kfood/찜/계란찜/\n"
     ]
    },
    {
     "name": "stderr",
     "output_type": "stream",
     "text": [
      "100%|██████████| 97/97 [00:00<00:00, 123.69it/s]\n",
      " 52%|█████▏    | 523/1005 [00:00<00:00, 2683.66it/s]"
     ]
    },
    {
     "name": "stdout",
     "output_type": "stream",
     "text": [
      "crop 끝\n",
      "\n",
      "\n",
      "crop을 하지 않은 이미지를 복사 중입니다.\n",
      "잠시만 기다려 주세요\n"
     ]
    },
    {
     "name": "stderr",
     "output_type": "stream",
     "text": [
      "100%|██████████| 1005/1005 [00:00<00:00, 2324.87it/s]\n",
      "  3%|▎         | 7/272 [00:00<00:05, 50.00it/s]"
     ]
    },
    {
     "name": "stdout",
     "output_type": "stream",
     "text": [
      "crop_area 파일 수집중\n",
      "crop 시작\n",
      "sub 디렉토리 생성 :  ../test/cropped_kfood/찜/수육/\n"
     ]
    },
    {
     "name": "stderr",
     "output_type": "stream",
     "text": [
      "100%|██████████| 272/272 [00:02<00:00, 132.64it/s]\n",
      " 26%|██▋       | 266/1006 [00:00<00:00, 2650.44it/s]"
     ]
    },
    {
     "name": "stdout",
     "output_type": "stream",
     "text": [
      "crop 끝\n",
      "\n",
      "\n",
      "crop을 하지 않은 이미지를 복사 중입니다.\n",
      "잠시만 기다려 주세요\n"
     ]
    },
    {
     "name": "stderr",
     "output_type": "stream",
     "text": [
      "100%|██████████| 1006/1006 [00:00<00:00, 2503.38it/s]\n",
      " 11%|█         | 20/180 [00:00<00:00, 197.27it/s]"
     ]
    },
    {
     "name": "stdout",
     "output_type": "stream",
     "text": [
      "crop_area 파일 수집중\n",
      "crop 시작\n",
      "sub 디렉토리 생성 :  ../test/cropped_kfood/찜/꼬막찜/\n"
     ]
    },
    {
     "name": "stderr",
     "output_type": "stream",
     "text": [
      "100%|██████████| 180/180 [00:00<00:00, 214.56it/s]\n",
      "  6%|▌         | 62/1006 [00:00<00:01, 619.52it/s]"
     ]
    },
    {
     "name": "stdout",
     "output_type": "stream",
     "text": [
      "crop 끝\n",
      "\n",
      "\n",
      "crop을 하지 않은 이미지를 복사 중입니다.\n",
      "잠시만 기다려 주세요\n"
     ]
    },
    {
     "name": "stderr",
     "output_type": "stream",
     "text": [
      "100%|██████████| 1006/1006 [00:00<00:00, 1543.07it/s]\n",
      " 12%|█▏        | 13/111 [00:00<00:01, 95.79it/s]"
     ]
    },
    {
     "name": "stdout",
     "output_type": "stream",
     "text": [
      "crop_area 파일 수집중\n",
      "crop 시작\n",
      "sub 디렉토리 생성 :  ../test/cropped_kfood/찜/찜닭/\n"
     ]
    },
    {
     "name": "stderr",
     "output_type": "stream",
     "text": [
      "100%|██████████| 111/111 [00:01<00:00, 105.61it/s]\n",
      "  0%|          | 0/1005 [00:00<?, ?it/s]"
     ]
    },
    {
     "name": "stdout",
     "output_type": "stream",
     "text": [
      "crop 끝\n",
      "\n",
      "\n",
      "crop을 하지 않은 이미지를 복사 중입니다.\n",
      "잠시만 기다려 주세요\n"
     ]
    },
    {
     "name": "stderr",
     "output_type": "stream",
     "text": [
      "100%|██████████| 1005/1005 [00:05<00:00, 174.51it/s]\n",
      "  3%|▎         | 19/707 [00:00<00:03, 186.23it/s]"
     ]
    },
    {
     "name": "stdout",
     "output_type": "stream",
     "text": [
      "\n",
      "\n",
      "\n",
      "------------------------------\n",
      "전골처리중\n",
      "main 디렉토리 생성 :  ../test/cropped_kfood/전골/\n",
      "crop_area 파일 수집중\n",
      "crop 시작\n",
      "sub 디렉토리 생성 :  ../test/cropped_kfood/전골/곱창전골/\n"
     ]
    },
    {
     "name": "stderr",
     "output_type": "stream",
     "text": [
      "100%|██████████| 707/707 [00:04<00:00, 169.49it/s]\n",
      "100%|██████████| 1002/1002 [00:00<00:00, 7969.97it/s]\n",
      "  0%|          | 0/833 [00:00<?, ?it/s]"
     ]
    },
    {
     "name": "stdout",
     "output_type": "stream",
     "text": [
      "crop 끝\n",
      "\n",
      "\n",
      "crop을 하지 않은 이미지를 복사 중입니다.\n",
      "잠시만 기다려 주세요\n",
      "\n",
      "\n",
      "\n",
      "------------------------------\n",
      "만두처리중\n",
      "main 디렉토리 생성 :  ../test/cropped_kfood/만두/\n",
      "crop_area 파일 수집중\n",
      "crop 시작\n",
      "sub 디렉토리 생성 :  ../test/cropped_kfood/만두/만두/\n"
     ]
    },
    {
     "name": "stderr",
     "output_type": "stream",
     "text": [
      "100%|██████████| 833/833 [00:04<00:00, 205.94it/s]\n",
      "100%|██████████| 1002/1002 [00:00<00:00, 15124.51it/s]\n",
      "  4%|▍         | 11/262 [00:00<00:02, 90.02it/s]"
     ]
    },
    {
     "name": "stdout",
     "output_type": "stream",
     "text": [
      "crop 끝\n",
      "\n",
      "\n",
      "crop을 하지 않은 이미지를 복사 중입니다.\n",
      "잠시만 기다려 주세요\n",
      "\n",
      "\n",
      "\n",
      "------------------------------\n",
      "무침처리중\n",
      "main 디렉토리 생성 :  ../test/cropped_kfood/무침/\n",
      "crop_area 파일 수집중\n",
      "crop 시작\n",
      "sub 디렉토리 생성 :  ../test/cropped_kfood/무침/도라지무침/\n"
     ]
    },
    {
     "name": "stderr",
     "output_type": "stream",
     "text": [
      "100%|██████████| 262/262 [00:01<00:00, 188.10it/s]\n",
      " 30%|███       | 303/1002 [00:00<00:00, 3027.72it/s]"
     ]
    },
    {
     "name": "stdout",
     "output_type": "stream",
     "text": [
      "crop 끝\n",
      "\n",
      "\n",
      "crop을 하지 않은 이미지를 복사 중입니다.\n",
      "잠시만 기다려 주세요\n"
     ]
    },
    {
     "name": "stderr",
     "output_type": "stream",
     "text": [
      "100%|██████████| 1002/1002 [00:00<00:00, 2397.97it/s]\n",
      "  2%|▏         | 13/663 [00:00<00:05, 126.52it/s]"
     ]
    },
    {
     "name": "stdout",
     "output_type": "stream",
     "text": [
      "crop_area 파일 수집중\n",
      "crop 시작\n",
      "sub 디렉토리 생성 :  ../test/cropped_kfood/무침/잡채/\n"
     ]
    },
    {
     "name": "stderr",
     "output_type": "stream",
     "text": [
      "100%|██████████| 663/663 [00:04<00:00, 160.69it/s]\n",
      " 53%|█████▎    | 532/1002 [00:00<00:00, 5314.78it/s]"
     ]
    },
    {
     "name": "stdout",
     "output_type": "stream",
     "text": [
      "crop 끝\n",
      "\n",
      "\n",
      "crop을 하지 않은 이미지를 복사 중입니다.\n",
      "잠시만 기다려 주세요\n"
     ]
    },
    {
     "name": "stderr",
     "output_type": "stream",
     "text": [
      "100%|██████████| 1002/1002 [00:00<00:00, 4482.08it/s]\n",
      "  9%|▊         | 17/195 [00:00<00:01, 158.80it/s]"
     ]
    },
    {
     "name": "stdout",
     "output_type": "stream",
     "text": [
      "crop_area 파일 수집중\n",
      "crop 시작\n",
      "sub 디렉토리 생성 :  ../test/cropped_kfood/무침/꽈리고추무침/\n"
     ]
    },
    {
     "name": "stderr",
     "output_type": "stream",
     "text": [
      "100%|██████████| 195/195 [00:01<00:00, 154.94it/s]\n",
      " 29%|██▊       | 286/1002 [00:00<00:00, 2855.94it/s]"
     ]
    },
    {
     "name": "stdout",
     "output_type": "stream",
     "text": [
      "crop 끝\n",
      "\n",
      "\n",
      "crop을 하지 않은 이미지를 복사 중입니다.\n",
      "잠시만 기다려 주세요\n"
     ]
    },
    {
     "name": "stderr",
     "output_type": "stream",
     "text": [
      "100%|██████████| 1002/1002 [00:00<00:00, 2797.88it/s]\n",
      "  2%|▏         | 12/729 [00:00<00:06, 109.32it/s]"
     ]
    },
    {
     "name": "stdout",
     "output_type": "stream",
     "text": [
      "crop_area 파일 수집중\n",
      "crop 시작\n",
      "sub 디렉토리 생성 :  ../test/cropped_kfood/무침/도토리묵/\n"
     ]
    },
    {
     "name": "stderr",
     "output_type": "stream",
     "text": [
      "100%|██████████| 729/729 [00:03<00:00, 203.86it/s]\n",
      "100%|██████████| 1005/1005 [00:00<00:00, 7666.59it/s]\n",
      "  0%|          | 0/199 [00:00<?, ?it/s]"
     ]
    },
    {
     "name": "stdout",
     "output_type": "stream",
     "text": [
      "crop 끝\n",
      "\n",
      "\n",
      "crop을 하지 않은 이미지를 복사 중입니다.\n",
      "잠시만 기다려 주세요\n",
      "crop_area 파일 수집중\n",
      "crop 시작\n",
      "sub 디렉토리 생성 :  ../test/cropped_kfood/무침/회무침/\n"
     ]
    },
    {
     "name": "stderr",
     "output_type": "stream",
     "text": [
      "100%|██████████| 199/199 [00:00<00:00, 222.94it/s]\n",
      " 31%|███       | 310/1006 [00:00<00:00, 3098.08it/s]"
     ]
    },
    {
     "name": "stdout",
     "output_type": "stream",
     "text": [
      "crop 끝\n",
      "\n",
      "\n",
      "crop을 하지 않은 이미지를 복사 중입니다.\n",
      "잠시만 기다려 주세요\n"
     ]
    },
    {
     "name": "stderr",
     "output_type": "stream",
     "text": [
      "100%|██████████| 1006/1006 [00:00<00:00, 3120.32it/s]\n",
      " 14%|█▍        | 15/106 [00:00<00:00, 139.25it/s]"
     ]
    },
    {
     "name": "stdout",
     "output_type": "stream",
     "text": [
      "crop_area 파일 수집중\n",
      "crop 시작\n",
      "sub 디렉토리 생성 :  ../test/cropped_kfood/무침/콩나물무침/\n"
     ]
    },
    {
     "name": "stderr",
     "output_type": "stream",
     "text": [
      "100%|██████████| 106/106 [00:00<00:00, 174.26it/s]\n",
      " 26%|██▌       | 258/1002 [00:00<00:00, 2572.36it/s]"
     ]
    },
    {
     "name": "stdout",
     "output_type": "stream",
     "text": [
      "crop 끝\n",
      "\n",
      "\n",
      "crop을 하지 않은 이미지를 복사 중입니다.\n",
      "잠시만 기다려 주세요\n"
     ]
    },
    {
     "name": "stderr",
     "output_type": "stream",
     "text": [
      "100%|██████████| 1002/1002 [00:00<00:00, 2494.46it/s]\n",
      "  3%|▎         | 25/828 [00:00<00:03, 249.59it/s]"
     ]
    },
    {
     "name": "stdout",
     "output_type": "stream",
     "text": [
      "crop_area 파일 수집중\n",
      "crop 시작\n",
      "sub 디렉토리 생성 :  ../test/cropped_kfood/무침/홍어무침/\n"
     ]
    },
    {
     "name": "stderr",
     "output_type": "stream",
     "text": [
      "100%|██████████| 828/828 [00:04<00:00, 182.93it/s]\n",
      "100%|██████████| 1002/1002 [00:00<00:00, 13634.26it/s]\n",
      "  6%|▌         | 12/196 [00:00<00:01, 114.05it/s]"
     ]
    },
    {
     "name": "stdout",
     "output_type": "stream",
     "text": [
      "crop 끝\n",
      "\n",
      "\n",
      "crop을 하지 않은 이미지를 복사 중입니다.\n",
      "잠시만 기다려 주세요\n",
      "\n",
      "\n",
      "\n",
      "------------------------------\n",
      "쌈처리중\n",
      "main 디렉토리 생성 :  ../test/cropped_kfood/쌈/\n",
      "crop_area 파일 수집중\n",
      "crop 시작\n",
      "sub 디렉토리 생성 :  ../test/cropped_kfood/쌈/보쌈/\n"
     ]
    },
    {
     "name": "stderr",
     "output_type": "stream",
     "text": [
      "100%|██████████| 196/196 [00:01<00:00, 140.17it/s]\n",
      " 19%|█▉        | 193/1005 [00:00<00:00, 1921.66it/s]"
     ]
    },
    {
     "name": "stdout",
     "output_type": "stream",
     "text": [
      "crop 끝\n",
      "\n",
      "\n",
      "crop을 하지 않은 이미지를 복사 중입니다.\n",
      "잠시만 기다려 주세요\n"
     ]
    },
    {
     "name": "stderr",
     "output_type": "stream",
     "text": [
      "100%|██████████| 1005/1005 [00:00<00:00, 2007.40it/s]\n",
      "  5%|▍         | 10/216 [00:00<00:02, 89.45it/s]"
     ]
    },
    {
     "name": "stdout",
     "output_type": "stream",
     "text": [
      "\n",
      "\n",
      "\n",
      "------------------------------\n",
      "국처리중\n",
      "main 디렉토리 생성 :  ../test/cropped_kfood/국/\n",
      "crop_area 파일 수집중\n",
      "crop 시작\n",
      "sub 디렉토리 생성 :  ../test/cropped_kfood/국/시래기국/\n"
     ]
    },
    {
     "name": "stderr",
     "output_type": "stream",
     "text": [
      "100%|██████████| 216/216 [00:01<00:00, 136.07it/s]\n",
      " 57%|█████▋    | 569/1002 [00:00<00:00, 2856.47it/s]"
     ]
    },
    {
     "name": "stdout",
     "output_type": "stream",
     "text": [
      "crop 끝\n",
      "\n",
      "\n",
      "crop을 하지 않은 이미지를 복사 중입니다.\n",
      "잠시만 기다려 주세요\n"
     ]
    },
    {
     "name": "stderr",
     "output_type": "stream",
     "text": [
      "100%|██████████| 1002/1002 [00:00<00:00, 2752.41it/s]\n",
      " 15%|█▍        | 16/109 [00:00<00:00, 158.22it/s]"
     ]
    },
    {
     "name": "stdout",
     "output_type": "stream",
     "text": [
      "crop_area 파일 수집중\n",
      "crop 시작\n",
      "sub 디렉토리 생성 :  ../test/cropped_kfood/국/북엇국/\n"
     ]
    },
    {
     "name": "stderr",
     "output_type": "stream",
     "text": [
      "100%|██████████| 109/109 [00:01<00:00, 68.54it/s]\n",
      " 27%|██▋       | 274/1002 [00:00<00:00, 2735.98it/s]"
     ]
    },
    {
     "name": "stdout",
     "output_type": "stream",
     "text": [
      "crop 끝\n",
      "\n",
      "\n",
      "crop을 하지 않은 이미지를 복사 중입니다.\n",
      "잠시만 기다려 주세요\n"
     ]
    },
    {
     "name": "stderr",
     "output_type": "stream",
     "text": [
      "100%|██████████| 1002/1002 [00:00<00:00, 2388.88it/s]\n",
      " 28%|██▊       | 11/39 [00:00<00:00, 98.14it/s]"
     ]
    },
    {
     "name": "stdout",
     "output_type": "stream",
     "text": [
      "crop_area 파일 수집중\n",
      "crop 시작\n",
      "sub 디렉토리 생성 :  ../test/cropped_kfood/국/무국/\n"
     ]
    },
    {
     "name": "stderr",
     "output_type": "stream",
     "text": [
      "100%|██████████| 39/39 [00:00<00:00, 150.91it/s]\n",
      " 25%|██▍       | 248/1002 [00:00<00:00, 2477.33it/s]"
     ]
    },
    {
     "name": "stdout",
     "output_type": "stream",
     "text": [
      "crop 끝\n",
      "\n",
      "\n",
      "crop을 하지 않은 이미지를 복사 중입니다.\n",
      "잠시만 기다려 주세요\n"
     ]
    },
    {
     "name": "stderr",
     "output_type": "stream",
     "text": [
      "100%|██████████| 1002/1002 [00:00<00:00, 1381.28it/s]\n",
      "  3%|▎         | 6/173 [00:00<00:02, 58.61it/s]"
     ]
    },
    {
     "name": "stdout",
     "output_type": "stream",
     "text": [
      "crop_area 파일 수집중\n",
      "crop 시작\n",
      "sub 디렉토리 생성 :  ../test/cropped_kfood/국/육개장/\n"
     ]
    },
    {
     "name": "stderr",
     "output_type": "stream",
     "text": [
      "100%|██████████| 173/173 [00:02<00:00, 81.53it/s]\n",
      "  7%|▋         | 66/1002 [00:00<00:01, 650.02it/s]"
     ]
    },
    {
     "name": "stdout",
     "output_type": "stream",
     "text": [
      "crop 끝\n",
      "\n",
      "\n",
      "crop을 하지 않은 이미지를 복사 중입니다.\n",
      "잠시만 기다려 주세요\n"
     ]
    },
    {
     "name": "stderr",
     "output_type": "stream",
     "text": [
      "100%|██████████| 1002/1002 [00:03<00:00, 322.21it/s]\n",
      " 12%|█▏        | 3/25 [00:00<00:00, 27.05it/s]"
     ]
    },
    {
     "name": "stdout",
     "output_type": "stream",
     "text": [
      "crop_area 파일 수집중\n",
      "crop 시작\n",
      "sub 디렉토리 생성 :  ../test/cropped_kfood/국/계란국/\n"
     ]
    },
    {
     "name": "stderr",
     "output_type": "stream",
     "text": [
      "100%|██████████| 25/25 [00:01<00:00, 20.69it/s]\n",
      "  1%|          | 11/1003 [00:00<00:10, 96.60it/s]"
     ]
    },
    {
     "name": "stdout",
     "output_type": "stream",
     "text": [
      "crop 끝\n",
      "\n",
      "\n",
      "crop을 하지 않은 이미지를 복사 중입니다.\n",
      "잠시만 기다려 주세요\n"
     ]
    },
    {
     "name": "stderr",
     "output_type": "stream",
     "text": [
      "100%|██████████| 1003/1003 [00:01<00:00, 660.15it/s]\n",
      "  7%|▋         | 7/102 [00:00<00:01, 64.60it/s]"
     ]
    },
    {
     "name": "stdout",
     "output_type": "stream",
     "text": [
      "crop_area 파일 수집중\n",
      "crop 시작\n",
      "sub 디렉토리 생성 :  ../test/cropped_kfood/국/콩나물국/\n"
     ]
    },
    {
     "name": "stderr",
     "output_type": "stream",
     "text": [
      "100%|██████████| 102/102 [00:01<00:00, 80.81it/s]\n",
      " 19%|█▊        | 187/1002 [00:00<00:00, 1861.14it/s]"
     ]
    },
    {
     "name": "stdout",
     "output_type": "stream",
     "text": [
      "crop 끝\n",
      "\n",
      "\n",
      "crop을 하지 않은 이미지를 복사 중입니다.\n",
      "잠시만 기다려 주세요\n"
     ]
    },
    {
     "name": "stderr",
     "output_type": "stream",
     "text": [
      "100%|██████████| 1002/1002 [00:00<00:00, 2292.06it/s]\n",
      " 18%|█▊        | 10/56 [00:00<00:00, 99.22it/s]"
     ]
    },
    {
     "name": "stdout",
     "output_type": "stream",
     "text": [
      "crop_area 파일 수집중\n",
      "crop 시작\n",
      "sub 디렉토리 생성 :  ../test/cropped_kfood/국/미역국/\n"
     ]
    },
    {
     "name": "stderr",
     "output_type": "stream",
     "text": [
      "100%|██████████| 56/56 [00:00<00:00, 119.56it/s]\n",
      " 23%|██▎       | 232/1002 [00:00<00:00, 2314.05it/s]"
     ]
    },
    {
     "name": "stdout",
     "output_type": "stream",
     "text": [
      "crop 끝\n",
      "\n",
      "\n",
      "crop을 하지 않은 이미지를 복사 중입니다.\n",
      "잠시만 기다려 주세요\n"
     ]
    },
    {
     "name": "stderr",
     "output_type": "stream",
     "text": [
      "100%|██████████| 1002/1002 [00:00<00:00, 2333.58it/s]\n",
      " 28%|██▊       | 13/46 [00:00<00:00, 101.24it/s]"
     ]
    },
    {
     "name": "stdout",
     "output_type": "stream",
     "text": [
      "crop_area 파일 수집중\n",
      "crop 시작\n",
      "sub 디렉토리 생성 :  ../test/cropped_kfood/국/떡국_만두국/\n"
     ]
    },
    {
     "name": "stderr",
     "output_type": "stream",
     "text": [
      "100%|██████████| 46/46 [00:00<00:00, 118.71it/s]\n",
      " 22%|██▏       | 224/1002 [00:00<00:00, 2234.15it/s]"
     ]
    },
    {
     "name": "stdout",
     "output_type": "stream",
     "text": [
      "crop 끝\n",
      "\n",
      "\n",
      "crop을 하지 않은 이미지를 복사 중입니다.\n",
      "잠시만 기다려 주세요\n"
     ]
    },
    {
     "name": "stderr",
     "output_type": "stream",
     "text": [
      "100%|██████████| 1002/1002 [00:00<00:00, 2008.89it/s]\n",
      "  3%|▎         | 18/559 [00:00<00:03, 179.87it/s]"
     ]
    },
    {
     "name": "stdout",
     "output_type": "stream",
     "text": [
      "\n",
      "\n",
      "\n",
      "------------------------------\n",
      "면처리중\n",
      "main 디렉토리 생성 :  ../test/cropped_kfood/면/\n",
      "crop_area 파일 수집중\n",
      "crop 시작\n",
      "sub 디렉토리 생성 :  ../test/cropped_kfood/면/쫄면/\n"
     ]
    },
    {
     "name": "stderr",
     "output_type": "stream",
     "text": [
      "100%|██████████| 559/559 [00:03<00:00, 178.03it/s]\n",
      "100%|██████████| 1002/1002 [00:00<00:00, 5499.95it/s]\n",
      "  0%|          | 0/362 [00:00<?, ?it/s]"
     ]
    },
    {
     "name": "stdout",
     "output_type": "stream",
     "text": [
      "crop 끝\n",
      "\n",
      "\n",
      "crop을 하지 않은 이미지를 복사 중입니다.\n",
      "잠시만 기다려 주세요\n",
      "crop_area 파일 수집중\n",
      "crop 시작\n",
      "sub 디렉토리 생성 :  ../test/cropped_kfood/면/잔치국수/\n"
     ]
    },
    {
     "name": "stderr",
     "output_type": "stream",
     "text": [
      "100%|██████████| 362/362 [00:02<00:00, 123.22it/s]\n",
      " 26%|██▌       | 259/1002 [00:00<00:00, 2583.75it/s]"
     ]
    },
    {
     "name": "stdout",
     "output_type": "stream",
     "text": [
      "crop 끝\n",
      "\n",
      "\n",
      "crop을 하지 않은 이미지를 복사 중입니다.\n",
      "잠시만 기다려 주세요\n"
     ]
    },
    {
     "name": "stderr",
     "output_type": "stream",
     "text": [
      "100%|██████████| 1002/1002 [00:00<00:00, 2426.27it/s]\n",
      "  4%|▍         | 12/270 [00:00<00:02, 113.65it/s]"
     ]
    },
    {
     "name": "stdout",
     "output_type": "stream",
     "text": [
      "crop_area 파일 수집중\n",
      "crop 시작\n",
      "sub 디렉토리 생성 :  ../test/cropped_kfood/면/콩국수/\n"
     ]
    },
    {
     "name": "stderr",
     "output_type": "stream",
     "text": [
      "100%|██████████| 270/270 [00:01<00:00, 144.85it/s]\n",
      " 28%|██▊       | 277/1002 [00:00<00:00, 2754.43it/s]"
     ]
    },
    {
     "name": "stdout",
     "output_type": "stream",
     "text": [
      "crop 끝\n",
      "\n",
      "\n",
      "crop을 하지 않은 이미지를 복사 중입니다.\n",
      "잠시만 기다려 주세요\n"
     ]
    },
    {
     "name": "stderr",
     "output_type": "stream",
     "text": [
      "100%|██████████| 1002/1002 [00:00<00:00, 2603.40it/s]\n",
      "  3%|▎         | 16/518 [00:00<00:03, 140.55it/s]"
     ]
    },
    {
     "name": "stdout",
     "output_type": "stream",
     "text": [
      "crop_area 파일 수집중\n",
      "crop 시작\n",
      "sub 디렉토리 생성 :  ../test/cropped_kfood/면/물냉면/\n"
     ]
    },
    {
     "name": "stderr",
     "output_type": "stream",
     "text": [
      "100%|██████████| 518/518 [00:03<00:00, 142.26it/s]\n",
      "  9%|▊         | 86/1002 [00:00<00:01, 508.88it/s]"
     ]
    },
    {
     "name": "stdout",
     "output_type": "stream",
     "text": [
      "crop 끝\n",
      "\n",
      "\n",
      "crop을 하지 않은 이미지를 복사 중입니다.\n",
      "잠시만 기다려 주세요\n"
     ]
    },
    {
     "name": "stderr",
     "output_type": "stream",
     "text": [
      "100%|██████████| 1002/1002 [00:01<00:00, 854.39it/s]\n",
      "  2%|▏         | 6/372 [00:00<00:06, 57.95it/s]"
     ]
    },
    {
     "name": "stdout",
     "output_type": "stream",
     "text": [
      "crop_area 파일 수집중\n",
      "crop 시작\n",
      "sub 디렉토리 생성 :  ../test/cropped_kfood/면/칼국수/\n"
     ]
    },
    {
     "name": "stderr",
     "output_type": "stream",
     "text": [
      "100%|██████████| 372/372 [00:02<00:00, 129.58it/s]\n",
      " 25%|██▌       | 254/1002 [00:00<00:00, 2529.82it/s]"
     ]
    },
    {
     "name": "stdout",
     "output_type": "stream",
     "text": [
      "crop 끝\n",
      "\n",
      "\n",
      "crop을 하지 않은 이미지를 복사 중입니다.\n",
      "잠시만 기다려 주세요\n"
     ]
    },
    {
     "name": "stderr",
     "output_type": "stream",
     "text": [
      "100%|██████████| 1002/1002 [00:04<00:00, 205.73it/s]\n",
      "  2%|▏         | 9/369 [00:00<00:04, 83.92it/s]"
     ]
    },
    {
     "name": "stdout",
     "output_type": "stream",
     "text": [
      "crop_area 파일 수집중\n",
      "crop 시작\n",
      "sub 디렉토리 생성 :  ../test/cropped_kfood/면/수제비/\n"
     ]
    },
    {
     "name": "stderr",
     "output_type": "stream",
     "text": [
      "100%|██████████| 369/369 [00:03<00:00, 115.03it/s]\n",
      " 26%|██▌       | 257/1002 [00:00<00:00, 2562.73it/s]"
     ]
    },
    {
     "name": "stdout",
     "output_type": "stream",
     "text": [
      "crop 끝\n",
      "\n",
      "\n",
      "crop을 하지 않은 이미지를 복사 중입니다.\n",
      "잠시만 기다려 주세요\n"
     ]
    },
    {
     "name": "stderr",
     "output_type": "stream",
     "text": [
      "100%|██████████| 1002/1002 [00:00<00:00, 2724.94it/s]\n",
      "  5%|▌         | 9/168 [00:00<00:01, 79.86it/s]"
     ]
    },
    {
     "name": "stdout",
     "output_type": "stream",
     "text": [
      "crop_area 파일 수집중\n",
      "crop 시작\n",
      "sub 디렉토리 생성 :  ../test/cropped_kfood/면/짬뽕/\n"
     ]
    },
    {
     "name": "stderr",
     "output_type": "stream",
     "text": [
      "100%|██████████| 168/168 [00:01<00:00, 124.12it/s]\n",
      " 20%|██        | 202/1002 [00:00<00:00, 2017.87it/s]"
     ]
    },
    {
     "name": "stdout",
     "output_type": "stream",
     "text": [
      "crop 끝\n",
      "\n",
      "\n",
      "crop을 하지 않은 이미지를 복사 중입니다.\n",
      "잠시만 기다려 주세요\n"
     ]
    },
    {
     "name": "stderr",
     "output_type": "stream",
     "text": [
      "100%|██████████| 1002/1002 [00:00<00:00, 1772.12it/s]\n",
      "  1%|▏         | 9/717 [00:00<00:09, 78.14it/s]"
     ]
    },
    {
     "name": "stdout",
     "output_type": "stream",
     "text": [
      "crop_area 파일 수집중\n",
      "crop 시작\n",
      "sub 디렉토리 생성 :  ../test/cropped_kfood/면/막국수/\n"
     ]
    },
    {
     "name": "stderr",
     "output_type": "stream",
     "text": [
      "100%|██████████| 717/717 [00:05<00:00, 129.29it/s]\n",
      " 41%|████      | 412/1002 [00:00<00:00, 4033.96it/s]"
     ]
    },
    {
     "name": "stdout",
     "output_type": "stream",
     "text": [
      "crop 끝\n",
      "\n",
      "\n",
      "crop을 하지 않은 이미지를 복사 중입니다.\n",
      "잠시만 기다려 주세요\n"
     ]
    },
    {
     "name": "stderr",
     "output_type": "stream",
     "text": [
      "100%|██████████| 1002/1002 [00:00<00:00, 4502.65it/s]\n",
      "  4%|▍         | 10/246 [00:00<00:02, 99.70it/s]"
     ]
    },
    {
     "name": "stdout",
     "output_type": "stream",
     "text": [
      "crop_area 파일 수집중\n",
      "crop 시작\n",
      "sub 디렉토리 생성 :  ../test/cropped_kfood/면/짜장면/\n"
     ]
    },
    {
     "name": "stderr",
     "output_type": "stream",
     "text": [
      "100%|██████████| 246/246 [00:01<00:00, 128.49it/s]\n",
      " 23%|██▎       | 226/1002 [00:00<00:00, 2256.22it/s]"
     ]
    },
    {
     "name": "stdout",
     "output_type": "stream",
     "text": [
      "crop 끝\n",
      "\n",
      "\n",
      "crop을 하지 않은 이미지를 복사 중입니다.\n",
      "잠시만 기다려 주세요\n"
     ]
    },
    {
     "name": "stderr",
     "output_type": "stream",
     "text": [
      "100%|██████████| 1002/1002 [00:00<00:00, 2447.99it/s]\n",
      "  3%|▎         | 11/381 [00:00<00:03, 99.27it/s]"
     ]
    },
    {
     "name": "stdout",
     "output_type": "stream",
     "text": [
      "crop_area 파일 수집중\n",
      "crop 시작\n",
      "sub 디렉토리 생성 :  ../test/cropped_kfood/면/열무국수/\n"
     ]
    },
    {
     "name": "stderr",
     "output_type": "stream",
     "text": [
      "100%|██████████| 381/381 [00:03<00:00, 121.36it/s]\n",
      " 32%|███▏      | 322/1002 [00:00<00:00, 3204.99it/s]"
     ]
    },
    {
     "name": "stdout",
     "output_type": "stream",
     "text": [
      "crop 끝\n",
      "\n",
      "\n",
      "crop을 하지 않은 이미지를 복사 중입니다.\n",
      "잠시만 기다려 주세요\n"
     ]
    },
    {
     "name": "stderr",
     "output_type": "stream",
     "text": [
      "100%|██████████| 1002/1002 [00:00<00:00, 3033.15it/s]\n",
      " 33%|███▎      | 18/54 [00:00<00:00, 179.98it/s]"
     ]
    },
    {
     "name": "stdout",
     "output_type": "stream",
     "text": [
      "crop_area 파일 수집중\n",
      "crop 시작\n",
      "sub 디렉토리 생성 :  ../test/cropped_kfood/면/라면/\n"
     ]
    },
    {
     "name": "stderr",
     "output_type": "stream",
     "text": [
      "100%|██████████| 54/54 [00:00<00:00, 166.55it/s]\n",
      " 22%|██▏       | 219/1002 [00:00<00:00, 2186.94it/s]"
     ]
    },
    {
     "name": "stdout",
     "output_type": "stream",
     "text": [
      "crop 끝\n",
      "\n",
      "\n",
      "crop을 하지 않은 이미지를 복사 중입니다.\n",
      "잠시만 기다려 주세요\n"
     ]
    },
    {
     "name": "stderr",
     "output_type": "stream",
     "text": [
      "100%|██████████| 1002/1002 [00:01<00:00, 821.18it/s]\n",
      "  4%|▎         | 12/327 [00:00<00:02, 113.98it/s]"
     ]
    },
    {
     "name": "stdout",
     "output_type": "stream",
     "text": [
      "crop_area 파일 수집중\n",
      "crop 시작\n",
      "sub 디렉토리 생성 :  ../test/cropped_kfood/면/비빔냉면/\n"
     ]
    },
    {
     "name": "stderr",
     "output_type": "stream",
     "text": [
      "100%|██████████| 327/327 [00:02<00:00, 162.77it/s]\n",
      "  7%|▋         | 68/1005 [00:00<00:01, 595.30it/s]"
     ]
    },
    {
     "name": "stdout",
     "output_type": "stream",
     "text": [
      "crop 끝\n",
      "\n",
      "\n",
      "crop을 하지 않은 이미지를 복사 중입니다.\n",
      "잠시만 기다려 주세요\n"
     ]
    },
    {
     "name": "stderr",
     "output_type": "stream",
     "text": [
      "100%|██████████| 1005/1005 [00:05<00:00, 186.67it/s]\n",
      "  1%|▏         | 13/947 [00:00<00:07, 117.98it/s]"
     ]
    },
    {
     "name": "stdout",
     "output_type": "stream",
     "text": [
      "\n",
      "\n",
      "\n",
      "------------------------------\n",
      "볶음처리중\n",
      "main 디렉토리 생성 :  ../test/cropped_kfood/볶음/\n",
      "crop_area 파일 수집중\n",
      "crop 시작\n",
      "sub 디렉토리 생성 :  ../test/cropped_kfood/볶음/고추장진미채볶음/\n"
     ]
    },
    {
     "name": "stderr",
     "output_type": "stream",
     "text": [
      "100%|██████████| 947/947 [00:06<00:00, 155.62it/s]\n",
      "100%|██████████| 1002/1002 [00:00<00:00, 25008.44it/s]\n",
      "  5%|▍         | 14/308 [00:00<00:02, 138.96it/s]"
     ]
    },
    {
     "name": "stdout",
     "output_type": "stream",
     "text": [
      "crop 끝\n",
      "\n",
      "\n",
      "crop을 하지 않은 이미지를 복사 중입니다.\n",
      "잠시만 기다려 주세요\n",
      "crop_area 파일 수집중\n",
      "crop 시작\n",
      "sub 디렉토리 생성 :  ../test/cropped_kfood/볶음/멸치볶음/\n"
     ]
    },
    {
     "name": "stderr",
     "output_type": "stream",
     "text": [
      "100%|██████████| 308/308 [00:01<00:00, 185.51it/s]\n",
      " 28%|██▊       | 284/1002 [00:00<00:00, 2833.48it/s]"
     ]
    },
    {
     "name": "stdout",
     "output_type": "stream",
     "text": [
      "crop 끝\n",
      "\n",
      "\n",
      "crop을 하지 않은 이미지를 복사 중입니다.\n",
      "잠시만 기다려 주세요\n"
     ]
    },
    {
     "name": "stderr",
     "output_type": "stream",
     "text": [
      "100%|██████████| 1002/1002 [00:00<00:00, 2461.26it/s]\n",
      "  1%|          | 7/707 [00:00<00:10, 66.28it/s]"
     ]
    },
    {
     "name": "stdout",
     "output_type": "stream",
     "text": [
      "crop_area 파일 수집중\n",
      "crop 시작\n",
      "sub 디렉토리 생성 :  ../test/cropped_kfood/볶음/떡볶이/\n"
     ]
    },
    {
     "name": "stderr",
     "output_type": "stream",
     "text": [
      "100%|██████████| 707/707 [00:05<00:00, 130.40it/s]\n",
      " 48%|████▊     | 483/1002 [00:00<00:00, 4812.99it/s]"
     ]
    },
    {
     "name": "stdout",
     "output_type": "stream",
     "text": [
      "crop 끝\n",
      "\n",
      "\n",
      "crop을 하지 않은 이미지를 복사 중입니다.\n",
      "잠시만 기다려 주세요\n"
     ]
    },
    {
     "name": "stderr",
     "output_type": "stream",
     "text": [
      "100%|██████████| 1002/1002 [00:00<00:00, 3909.54it/s]\n",
      "  2%|▏         | 15/998 [00:00<00:06, 143.59it/s]"
     ]
    },
    {
     "name": "stdout",
     "output_type": "stream",
     "text": [
      "crop_area 파일 수집중\n",
      "crop 시작\n",
      "sub 디렉토리 생성 :  ../test/cropped_kfood/볶음/제육볶음/\n"
     ]
    },
    {
     "name": "stderr",
     "output_type": "stream",
     "text": [
      "100%|██████████| 998/998 [00:06<00:00, 153.70it/s]\n",
      "100%|██████████| 1003/1003 [00:00<00:00, 15358.25it/s]\n",
      "  1%|▏         | 13/909 [00:00<00:07, 117.55it/s]"
     ]
    },
    {
     "name": "stdout",
     "output_type": "stream",
     "text": [
      "crop 끝\n",
      "\n",
      "\n",
      "crop을 하지 않은 이미지를 복사 중입니다.\n",
      "잠시만 기다려 주세요\n",
      "crop_area 파일 수집중\n",
      "crop 시작\n",
      "sub 디렉토리 생성 :  ../test/cropped_kfood/볶음/소세지볶음/\n"
     ]
    },
    {
     "name": "stderr",
     "output_type": "stream",
     "text": [
      "100%|██████████| 909/909 [00:06<00:00, 150.40it/s]\n",
      "100%|██████████| 1005/1005 [00:00<00:00, 18323.70it/s]\n",
      "  6%|▌         | 23/398 [00:00<00:01, 221.65it/s]"
     ]
    },
    {
     "name": "stdout",
     "output_type": "stream",
     "text": [
      "crop 끝\n",
      "\n",
      "\n",
      "crop을 하지 않은 이미지를 복사 중입니다.\n",
      "잠시만 기다려 주세요\n",
      "crop_area 파일 수집중\n",
      "crop 시작\n",
      "sub 디렉토리 생성 :  ../test/cropped_kfood/볶음/라볶이/\n"
     ]
    },
    {
     "name": "stderr",
     "output_type": "stream",
     "text": [
      "100%|██████████| 398/398 [00:01<00:00, 215.97it/s]\n",
      " 41%|████      | 407/1002 [00:00<00:00, 4064.76it/s]"
     ]
    },
    {
     "name": "stdout",
     "output_type": "stream",
     "text": [
      "crop 끝\n",
      "\n",
      "\n",
      "crop을 하지 않은 이미지를 복사 중입니다.\n",
      "잠시만 기다려 주세요\n"
     ]
    },
    {
     "name": "stderr",
     "output_type": "stream",
     "text": [
      "100%|██████████| 1002/1002 [00:00<00:00, 4039.61it/s]\n",
      "  1%|          | 9/907 [00:00<00:10, 89.59it/s]"
     ]
    },
    {
     "name": "stdout",
     "output_type": "stream",
     "text": [
      "crop_area 파일 수집중\n",
      "crop 시작\n",
      "sub 디렉토리 생성 :  ../test/cropped_kfood/볶음/건새우볶음/\n"
     ]
    },
    {
     "name": "stderr",
     "output_type": "stream",
     "text": [
      "100%|██████████| 907/907 [00:06<00:00, 141.42it/s]\n",
      "100%|██████████| 1002/1002 [00:00<00:00, 19415.29it/s]\n",
      "  2%|▏         | 19/830 [00:00<00:04, 178.13it/s]"
     ]
    },
    {
     "name": "stdout",
     "output_type": "stream",
     "text": [
      "crop 끝\n",
      "\n",
      "\n",
      "crop을 하지 않은 이미지를 복사 중입니다.\n",
      "잠시만 기다려 주세요\n",
      "crop_area 파일 수집중\n",
      "crop 시작\n",
      "sub 디렉토리 생성 :  ../test/cropped_kfood/볶음/두부김치/\n"
     ]
    },
    {
     "name": "stderr",
     "output_type": "stream",
     "text": [
      "100%|██████████| 830/830 [00:04<00:00, 184.75it/s]\n",
      "100%|██████████| 1002/1002 [00:00<00:00, 14466.85it/s]\n",
      "  2%|▏         | 21/919 [00:00<00:04, 207.77it/s]"
     ]
    },
    {
     "name": "stdout",
     "output_type": "stream",
     "text": [
      "crop 끝\n",
      "\n",
      "\n",
      "crop을 하지 않은 이미지를 복사 중입니다.\n",
      "잠시만 기다려 주세요\n",
      "crop_area 파일 수집중\n",
      "crop 시작\n",
      "sub 디렉토리 생성 :  ../test/cropped_kfood/볶음/주꾸미볶음/\n"
     ]
    },
    {
     "name": "stderr",
     "output_type": "stream",
     "text": [
      "100%|██████████| 919/919 [00:04<00:00, 184.23it/s]\n",
      "100%|██████████| 1004/1004 [00:00<00:00, 24362.49it/s]\n",
      "  2%|▏         | 15/901 [00:00<00:07, 122.64it/s]"
     ]
    },
    {
     "name": "stdout",
     "output_type": "stream",
     "text": [
      "crop 끝\n",
      "\n",
      "\n",
      "crop을 하지 않은 이미지를 복사 중입니다.\n",
      "잠시만 기다려 주세요\n",
      "crop_area 파일 수집중\n",
      "crop 시작\n",
      "sub 디렉토리 생성 :  ../test/cropped_kfood/볶음/감자채볶음/\n"
     ]
    },
    {
     "name": "stderr",
     "output_type": "stream",
     "text": [
      "100%|██████████| 901/901 [00:05<00:00, 158.58it/s]\n",
      "100%|██████████| 1002/1002 [00:00<00:00, 20404.89it/s]\n",
      " 21%|██        | 12/57 [00:00<00:00, 114.25it/s]"
     ]
    },
    {
     "name": "stdout",
     "output_type": "stream",
     "text": [
      "crop 끝\n",
      "\n",
      "\n",
      "crop을 하지 않은 이미지를 복사 중입니다.\n",
      "잠시만 기다려 주세요\n",
      "crop_area 파일 수집중\n",
      "crop 시작\n",
      "sub 디렉토리 생성 :  ../test/cropped_kfood/볶음/어묵볶음/\n"
     ]
    },
    {
     "name": "stderr",
     "output_type": "stream",
     "text": [
      "100%|██████████| 57/57 [00:00<00:00, 206.92it/s]\n",
      " 39%|███▉      | 394/1003 [00:00<00:00, 1786.66it/s]"
     ]
    },
    {
     "name": "stdout",
     "output_type": "stream",
     "text": [
      "crop 끝\n",
      "\n",
      "\n",
      "crop을 하지 않은 이미지를 복사 중입니다.\n",
      "잠시만 기다려 주세요\n"
     ]
    },
    {
     "name": "stderr",
     "output_type": "stream",
     "text": [
      "100%|██████████| 1003/1003 [00:00<00:00, 2117.81it/s]\n",
      "  1%|▏         | 13/877 [00:00<00:06, 129.00it/s]"
     ]
    },
    {
     "name": "stdout",
     "output_type": "stream",
     "text": [
      "crop_area 파일 수집중\n",
      "crop 시작\n",
      "sub 디렉토리 생성 :  ../test/cropped_kfood/볶음/오징어채볶음/\n"
     ]
    },
    {
     "name": "stderr",
     "output_type": "stream",
     "text": [
      "100%|██████████| 877/877 [00:06<00:00, 135.32it/s]\n",
      "100%|██████████| 1085/1085 [00:00<00:00, 9152.67it/s]\n",
      "  0%|          | 0/225 [00:00<?, ?it/s]"
     ]
    },
    {
     "name": "stdout",
     "output_type": "stream",
     "text": [
      "crop 끝\n",
      "\n",
      "\n",
      "crop을 하지 않은 이미지를 복사 중입니다.\n",
      "잠시만 기다려 주세요\n",
      "\n",
      "\n",
      "\n",
      "------------------------------\n",
      "장처리중\n",
      "main 디렉토리 생성 :  ../test/cropped_kfood/장/\n",
      "crop_area 파일 수집중\n",
      "crop 시작\n",
      "sub 디렉토리 생성 :  ../test/cropped_kfood/장/간장게장/\n"
     ]
    },
    {
     "name": "stderr",
     "output_type": "stream",
     "text": [
      "100%|██████████| 225/225 [00:01<00:00, 119.16it/s]\n",
      " 21%|██        | 209/1003 [00:00<00:00, 2074.68it/s]"
     ]
    },
    {
     "name": "stdout",
     "output_type": "stream",
     "text": [
      "crop 끝\n",
      "\n",
      "\n",
      "crop을 하지 않은 이미지를 복사 중입니다.\n",
      "잠시만 기다려 주세요\n"
     ]
    },
    {
     "name": "stderr",
     "output_type": "stream",
     "text": [
      "100%|██████████| 1003/1003 [00:00<00:00, 1784.62it/s]\n",
      "  8%|▊         | 16/192 [00:00<00:01, 158.60it/s]"
     ]
    },
    {
     "name": "stdout",
     "output_type": "stream",
     "text": [
      "crop_area 파일 수집중\n",
      "crop 시작\n",
      "sub 디렉토리 생성 :  ../test/cropped_kfood/장/양념게장/\n"
     ]
    },
    {
     "name": "stderr",
     "output_type": "stream",
     "text": [
      "100%|██████████| 192/192 [00:01<00:00, 188.88it/s]\n",
      " 31%|███       | 311/1002 [00:00<00:00, 3107.99it/s]"
     ]
    },
    {
     "name": "stdout",
     "output_type": "stream",
     "text": [
      "crop 끝\n",
      "\n",
      "\n",
      "crop을 하지 않은 이미지를 복사 중입니다.\n",
      "잠시만 기다려 주세요\n"
     ]
    },
    {
     "name": "stderr",
     "output_type": "stream",
     "text": [
      "100%|██████████| 1002/1002 [00:00<00:00, 3089.49it/s]\n",
      "  4%|▎         | 8/222 [00:00<00:02, 78.51it/s]"
     ]
    },
    {
     "name": "stdout",
     "output_type": "stream",
     "text": [
      "\n",
      "\n",
      "\n",
      "------------------------------\n",
      "탕처리중\n",
      "main 디렉토리 생성 :  ../test/cropped_kfood/탕/\n",
      "crop_area 파일 수집중\n",
      "crop 시작\n",
      "sub 디렉토리 생성 :  ../test/cropped_kfood/탕/감자탕/\n"
     ]
    },
    {
     "name": "stderr",
     "output_type": "stream",
     "text": [
      "100%|██████████| 222/222 [00:01<00:00, 123.45it/s]\n",
      " 27%|██▋       | 271/1005 [00:00<00:00, 2709.69it/s]"
     ]
    },
    {
     "name": "stdout",
     "output_type": "stream",
     "text": [
      "crop 끝\n",
      "\n",
      "\n",
      "crop을 하지 않은 이미지를 복사 중입니다.\n",
      "잠시만 기다려 주세요\n"
     ]
    },
    {
     "name": "stderr",
     "output_type": "stream",
     "text": [
      "100%|██████████| 1005/1005 [00:00<00:00, 2574.31it/s]\n",
      "  6%|▌         | 8/139 [00:00<00:02, 57.50it/s]"
     ]
    },
    {
     "name": "stdout",
     "output_type": "stream",
     "text": [
      "crop_area 파일 수집중\n",
      "crop 시작\n",
      "sub 디렉토리 생성 :  ../test/cropped_kfood/탕/매운탕/\n"
     ]
    },
    {
     "name": "stderr",
     "output_type": "stream",
     "text": [
      "100%|██████████| 139/139 [00:01<00:00, 111.83it/s]\n",
      " 25%|██▌       | 252/1004 [00:00<00:00, 2519.73it/s]"
     ]
    },
    {
     "name": "stdout",
     "output_type": "stream",
     "text": [
      "crop 끝\n",
      "\n",
      "\n",
      "crop을 하지 않은 이미지를 복사 중입니다.\n",
      "잠시만 기다려 주세요\n"
     ]
    },
    {
     "name": "stderr",
     "output_type": "stream",
     "text": [
      "100%|██████████| 1004/1004 [00:00<00:00, 2569.63it/s]\n",
      "  3%|▎         | 9/310 [00:00<00:03, 89.87it/s]"
     ]
    },
    {
     "name": "stdout",
     "output_type": "stream",
     "text": [
      "crop_area 파일 수집중\n",
      "crop 시작\n",
      "sub 디렉토리 생성 :  ../test/cropped_kfood/탕/곰탕_설렁탕/\n"
     ]
    },
    {
     "name": "stderr",
     "output_type": "stream",
     "text": [
      "100%|██████████| 310/310 [00:02<00:00, 134.87it/s]\n",
      " 33%|███▎      | 336/1004 [00:00<00:00, 3351.10it/s]"
     ]
    },
    {
     "name": "stdout",
     "output_type": "stream",
     "text": [
      "crop 끝\n",
      "\n",
      "\n",
      "crop을 하지 않은 이미지를 복사 중입니다.\n",
      "잠시만 기다려 주세요\n"
     ]
    },
    {
     "name": "stderr",
     "output_type": "stream",
     "text": [
      "100%|██████████| 1004/1004 [00:00<00:00, 3412.54it/s]\n",
      "  6%|▌         | 12/216 [00:00<00:01, 103.88it/s]"
     ]
    },
    {
     "name": "stdout",
     "output_type": "stream",
     "text": [
      "crop_area 파일 수집중\n",
      "crop 시작\n",
      "sub 디렉토리 생성 :  ../test/cropped_kfood/탕/추어탕/\n"
     ]
    },
    {
     "name": "stderr",
     "output_type": "stream",
     "text": [
      "100%|██████████| 216/216 [00:02<00:00, 103.81it/s]\n",
      " 28%|██▊       | 278/1005 [00:00<00:00, 2779.59it/s]"
     ]
    },
    {
     "name": "stdout",
     "output_type": "stream",
     "text": [
      "crop 끝\n",
      "\n",
      "\n",
      "crop을 하지 않은 이미지를 복사 중입니다.\n",
      "잠시만 기다려 주세요\n"
     ]
    },
    {
     "name": "stderr",
     "output_type": "stream",
     "text": [
      "100%|██████████| 1005/1005 [00:00<00:00, 2397.73it/s]\n",
      "  2%|▏         | 6/349 [00:00<00:07, 44.80it/s]"
     ]
    },
    {
     "name": "stdout",
     "output_type": "stream",
     "text": [
      "crop_area 파일 수집중\n",
      "crop 시작\n",
      "sub 디렉토리 생성 :  ../test/cropped_kfood/탕/갈비탕/\n"
     ]
    },
    {
     "name": "stderr",
     "output_type": "stream",
     "text": [
      "100%|██████████| 349/349 [00:02<00:00, 131.32it/s]\n",
      " 27%|██▋       | 270/1002 [00:00<00:00, 2694.15it/s]"
     ]
    },
    {
     "name": "stdout",
     "output_type": "stream",
     "text": [
      "crop 끝\n",
      "\n",
      "\n",
      "crop을 하지 않은 이미지를 복사 중입니다.\n",
      "잠시만 기다려 주세요\n"
     ]
    },
    {
     "name": "stderr",
     "output_type": "stream",
     "text": [
      "100%|██████████| 1002/1002 [00:00<00:00, 1568.35it/s]\n",
      "  3%|▎         | 8/300 [00:00<00:05, 56.65it/s]"
     ]
    },
    {
     "name": "stdout",
     "output_type": "stream",
     "text": [
      "crop_area 파일 수집중\n",
      "crop 시작\n",
      "sub 디렉토리 생성 :  ../test/cropped_kfood/탕/삼계탕/\n"
     ]
    },
    {
     "name": "stderr",
     "output_type": "stream",
     "text": [
      "100%|██████████| 300/300 [00:01<00:00, 165.44it/s]\n",
      " 20%|█▉        | 200/1005 [00:00<00:00, 1750.18it/s]"
     ]
    },
    {
     "name": "stdout",
     "output_type": "stream",
     "text": [
      "crop 끝\n",
      "\n",
      "\n",
      "crop을 하지 않은 이미지를 복사 중입니다.\n",
      "잠시만 기다려 주세요\n"
     ]
    },
    {
     "name": "stderr",
     "output_type": "stream",
     "text": [
      "100%|██████████| 1005/1005 [00:05<00:00, 194.31it/s]\n",
      "  1%|          | 9/948 [00:00<00:10, 89.24it/s]"
     ]
    },
    {
     "name": "stdout",
     "output_type": "stream",
     "text": [
      "\n",
      "\n",
      "\n",
      "------------------------------\n",
      "나물처리중\n",
      "main 디렉토리 생성 :  ../test/cropped_kfood/나물/\n",
      "crop_area 파일 수집중\n",
      "crop 시작\n",
      "sub 디렉토리 생성 :  ../test/cropped_kfood/나물/애호박볶음/\n"
     ]
    },
    {
     "name": "stderr",
     "output_type": "stream",
     "text": [
      "100%|██████████| 948/948 [00:05<00:00, 166.10it/s]\n",
      "100%|██████████| 1002/1002 [00:00<00:00, 15821.90it/s]\n",
      " 21%|██        | 14/67 [00:00<00:00, 132.98it/s]"
     ]
    },
    {
     "name": "stdout",
     "output_type": "stream",
     "text": [
      "crop 끝\n",
      "\n",
      "\n",
      "crop을 하지 않은 이미지를 복사 중입니다.\n",
      "잠시만 기다려 주세요\n",
      "crop_area 파일 수집중\n",
      "crop 시작\n",
      "sub 디렉토리 생성 :  ../test/cropped_kfood/나물/고사리나물/\n"
     ]
    },
    {
     "name": "stderr",
     "output_type": "stream",
     "text": [
      "100%|██████████| 67/67 [00:00<00:00, 188.10it/s]\n",
      " 24%|██▍       | 244/1002 [00:00<00:00, 2439.90it/s]"
     ]
    },
    {
     "name": "stdout",
     "output_type": "stream",
     "text": [
      "crop 끝\n",
      "\n",
      "\n",
      "crop을 하지 않은 이미지를 복사 중입니다.\n",
      "잠시만 기다려 주세요\n"
     ]
    },
    {
     "name": "stderr",
     "output_type": "stream",
     "text": [
      "100%|██████████| 1002/1002 [00:00<00:00, 2414.81it/s]\n",
      "  2%|▏         | 15/847 [00:00<00:05, 144.16it/s]"
     ]
    },
    {
     "name": "stdout",
     "output_type": "stream",
     "text": [
      "crop_area 파일 수집중\n",
      "crop 시작\n",
      "sub 디렉토리 생성 :  ../test/cropped_kfood/나물/시금치나물/\n"
     ]
    },
    {
     "name": "stderr",
     "output_type": "stream",
     "text": [
      "100%|██████████| 847/847 [00:04<00:00, 180.98it/s]\n",
      "100%|██████████| 1002/1002 [00:00<00:00, 12800.91it/s]\n",
      " 18%|█▊        | 14/77 [00:00<00:00, 129.06it/s]"
     ]
    },
    {
     "name": "stdout",
     "output_type": "stream",
     "text": [
      "crop 끝\n",
      "\n",
      "\n",
      "crop을 하지 않은 이미지를 복사 중입니다.\n",
      "잠시만 기다려 주세요\n",
      "crop_area 파일 수집중\n",
      "crop 시작\n",
      "sub 디렉토리 생성 :  ../test/cropped_kfood/나물/가지볶음/\n"
     ]
    },
    {
     "name": "stderr",
     "output_type": "stream",
     "text": [
      "100%|██████████| 77/77 [00:00<00:00, 161.41it/s]\n",
      " 26%|██▌       | 257/1002 [00:00<00:00, 2560.63it/s]"
     ]
    },
    {
     "name": "stdout",
     "output_type": "stream",
     "text": [
      "crop 끝\n",
      "\n",
      "\n",
      "crop을 하지 않은 이미지를 복사 중입니다.\n",
      "잠시만 기다려 주세요\n"
     ]
    },
    {
     "name": "stderr",
     "output_type": "stream",
     "text": [
      "100%|██████████| 1002/1002 [00:00<00:00, 2428.42it/s]\n",
      "  1%|          | 14/1537 [00:00<00:11, 127.44it/s]"
     ]
    },
    {
     "name": "stdout",
     "output_type": "stream",
     "text": [
      "crop_area 파일 수집중\n",
      "crop 시작\n",
      "sub 디렉토리 생성 :  ../test/cropped_kfood/나물/숙주나물/\n"
     ]
    },
    {
     "name": "stderr",
     "output_type": "stream",
     "text": [
      "100%|██████████| 1537/1537 [00:07<00:00, 199.68it/s]\n",
      "100%|██████████| 1002/1002 [00:00<00:00, 8091.64it/s]\n",
      "  0%|          | 0/19 [00:00<?, ?it/s]"
     ]
    },
    {
     "name": "stdout",
     "output_type": "stream",
     "text": [
      "crop 끝\n",
      "\n",
      "\n",
      "crop을 하지 않은 이미지를 복사 중입니다.\n",
      "잠시만 기다려 주세요\n",
      "crop_area 파일 수집중\n",
      "crop 시작\n",
      "sub 디렉토리 생성 :  ../test/cropped_kfood/나물/미역줄기볶음/\n"
     ]
    },
    {
     "name": "stderr",
     "output_type": "stream",
     "text": [
      "100%|██████████| 19/19 [00:00<00:00, 152.11it/s]\n",
      " 24%|██▍       | 239/1002 [00:00<00:00, 2389.57it/s]"
     ]
    },
    {
     "name": "stdout",
     "output_type": "stream",
     "text": [
      "crop 끝\n",
      "\n",
      "\n",
      "crop을 하지 않은 이미지를 복사 중입니다.\n",
      "잠시만 기다려 주세요\n"
     ]
    },
    {
     "name": "stderr",
     "output_type": "stream",
     "text": [
      "100%|██████████| 1002/1002 [00:00<00:00, 2452.80it/s]"
     ]
    },
    {
     "name": "stdout",
     "output_type": "stream",
     "text": [
      "\n",
      "\n",
      "\n"
     ]
    },
    {
     "name": "stderr",
     "output_type": "stream",
     "text": [
      "\n"
     ]
    }
   ],
   "source": [
    "for cl in classes:\n",
    "    print('-'*30)\n",
    "    print(cl +\"처리중\")\n",
    "    sub_classes = path_dict[cl].keys()\n",
    "    for subclass in sub_classes :\n",
    "        img_paths = path_dict[cl][subclass]\n",
    "        cropping(img_paths, cl)\n",
    "    print('\\n\\n')"
   ]
  },
  {
   "cell_type": "code",
   "execution_count": null,
   "metadata": {},
   "outputs": [],
   "source": []
  },
  {
   "cell_type": "code",
   "execution_count": 109,
   "metadata": {},
   "outputs": [
    {
     "data": {
      "text/plain": [
       "['김치',\n",
       " '적',\n",
       " '회',\n",
       " '찌개',\n",
       " '기타',\n",
       " '튀김',\n",
       " '밥',\n",
       " '떡',\n",
       " '구이',\n",
       " '조림',\n",
       " '한과',\n",
       " '음청류',\n",
       " '장아찌',\n",
       " '죽',\n",
       " '해물',\n",
       " '전',\n",
       " '찜',\n",
       " '전골',\n",
       " '만두',\n",
       " '무침',\n",
       " '쌈',\n",
       " '국',\n",
       " '면',\n",
       " '볶음',\n",
       " '장',\n",
       " '탕',\n",
       " '나물']"
      ]
     },
     "execution_count": 109,
     "metadata": {},
     "output_type": "execute_result"
    }
   ],
   "source": [
    "os.listdir('../cropped_kfood/')"
   ]
  },
  {
   "cell_type": "code",
   "execution_count": 111,
   "metadata": {},
   "outputs": [
    {
     "name": "stdout",
     "output_type": "stream",
     "text": [
      "김치 => 총각김치 : 1004 장\n",
      "김치 => 오이소박이 : 1001 장\n",
      "김치 => 배추김치 : 1002 장\n",
      "김치 => 깍두기 : 1001 장\n",
      "김치 => 갓김치 : 1001 장\n",
      "김치 => 열무김치 : 1001 장\n",
      "김치 => 나박김치 : 1001 장\n",
      "김치 => 무생채 : 1001 장\n",
      "김치 => 백김치 : 1002 장\n",
      "김치 => 파김치 : 1001 장\n",
      "김치 => 부추김치 : 1005 장\n",
      "적 => 떡꼬치 : 1096 장\n",
      "회 => 물회 : 1014 장\n",
      "회 => 육회 : 1002 장\n",
      "찌개 => 김치찌개 : 1008 장\n",
      "찌개 => 닭계장 : 1004 장\n",
      "찌개 => 된장찌개 : 1006 장\n",
      "찌개 => 동태찌개 : 1001 장\n",
      "찌개 => 순두부찌개 : 1004 장\n",
      "기타 => 양념치킨 : 1006 장\n",
      "기타 => 편육 : 1001 장\n",
      "기타 => 과메기 : 1004 장\n",
      "기타 => 피자 : 1001 장\n",
      "기타 => 콩자반 : 1001 장\n",
      "기타 => 후라이드치킨 : 1002 장\n",
      "기타 => 젓갈 : 1003 장\n",
      "튀김 => 오징어튀김 : 1003 장\n",
      "튀김 => 새우튀김 : 1004 장\n",
      "튀김 => 고추튀김 : 1008 장\n",
      "밥 => 유부초밥 : 1001 장\n",
      "밥 => 알밥 : 1001 장\n",
      "밥 => 잡곡밥 : 1004 장\n",
      "밥 => 김밥 : 1000 장\n",
      "밥 => 주먹밥 : 1000 장\n",
      "밥 => 김치볶음밥 : 1000 장\n",
      "밥 => 새우볶음밥 : 1000 장\n",
      "밥 => 누룽지 : 1000 장\n",
      "밥 => 비빔밥 : 1000 장\n",
      "떡 => 경단 : 1000 장\n",
      "떡 => 송편 : 1000 장\n",
      "떡 => 꿀떡 : 1003 장\n",
      "구이 => 곱창구이 : 1000 장\n",
      "구이 => 삼겹살 : 1000 장\n",
      "구이 => 갈치구이 : 1000 장\n",
      "구이 => 고등어구이 : 1000 장\n",
      "구이 => 닭갈비 : 1000 장\n",
      "구이 => 불고기 : 1000 장\n",
      "구이 => 조개구이 : 1000 장\n",
      "구이 => 황태구이 : 1000 장\n",
      "구이 => 더덕구이 : 1000 장\n",
      "구이 => 장어구이 : 1000 장\n",
      "구이 => 떡갈비 : 1000 장\n",
      "구이 => 훈제오리 : 1001 장\n",
      "구이 => 갈비구이 : 1000 장\n",
      "구이 => 조기구이 : 1000 장\n",
      "조림 => 메추리알장조림 : 1001 장\n",
      "조림 => 감자조림 : 1001 장\n",
      "조림 => 땅콩조림 : 1001 장\n",
      "조림 => 코다리조림 : 1130 장\n",
      "조림 => 우엉조림 : 1004 장\n",
      "조림 => 연근조림 : 1000 장\n",
      "조림 => 꽁치조림 : 1000 장\n",
      "조림 => 갈치조림 : 1005 장\n",
      "조림 => 두부조림 : 1001 장\n",
      "조림 => 고등어조림 : 1000 장\n",
      "조림 => 장조림 : 1004 장\n",
      "한과 => 약과 : 1003 장\n",
      "한과 => 한과 : 1010 장\n",
      "한과 => 약식 : 1005 장\n",
      "음청류 => 수정과 : 1000 장\n",
      "음청류 => 식혜 : 1002 장\n",
      "장아찌 => 깻잎장아찌 : 1002 장\n",
      "죽 => 호박죽 : 1000 장\n",
      "죽 => 전복죽 : 1000 장\n",
      "해물 => 산낙지 : 1065 장\n",
      "해물 => 멍게 : 1089 장\n",
      "전 => 계란말이 : 1002 장\n",
      "전 => 감자전 : 1001 장\n",
      "전 => 생선전 : 1001 장\n",
      "전 => 김치전 : 1001 장\n",
      "전 => 계란후라이 : 1002 장\n",
      "전 => 호박전 : 1000 장\n",
      "전 => 동그랑땡 : 1000 장\n",
      "전 => 파전 : 1001 장\n",
      "찜 => 닭볶음탕 : 1002 장\n",
      "찜 => 갈비찜 : 1000 장\n",
      "찜 => 김치찜 : 1000 장\n",
      "찜 => 족발 : 1001 장\n",
      "찜 => 해물찜 : 1001 장\n",
      "찜 => 순대 : 1003 장\n",
      "찜 => 계란찜 : 1003 장\n",
      "찜 => 수육 : 1004 장\n",
      "찜 => 꼬막찜 : 1004 장\n",
      "찜 => 찜닭 : 1003 장\n",
      "전골 => 곱창전골 : 1000 장\n",
      "만두 => 만두 : 1000 장\n",
      "무침 => 도라지무침 : 1000 장\n",
      "무침 => 잡채 : 1000 장\n",
      "무침 => 꽈리고추무침 : 1000 장\n",
      "무침 => 도토리묵 : 1003 장\n",
      "무침 => 회무침 : 1004 장\n",
      "무침 => 콩나물무침 : 1000 장\n",
      "무침 => 홍어무침 : 1000 장\n",
      "쌈 => 보쌈 : 1003 장\n",
      "국 => 시래기국 : 1000 장\n",
      "국 => 북엇국 : 1000 장\n",
      "국 => 무국 : 1000 장\n",
      "국 => 육개장 : 1000 장\n",
      "국 => 계란국 : 1001 장\n",
      "국 => 콩나물국 : 1000 장\n",
      "국 => 미역국 : 1000 장\n",
      "국 => 떡국_만두국 : 1000 장\n",
      "면 => 쫄면 : 1000 장\n",
      "면 => 잔치국수 : 1000 장\n",
      "면 => 콩국수 : 1000 장\n",
      "면 => 물냉면 : 1000 장\n",
      "면 => 칼국수 : 1000 장\n",
      "면 => 수제비 : 1000 장\n",
      "면 => 짬뽕 : 1000 장\n",
      "면 => 막국수 : 1000 장\n",
      "면 => 짜장면 : 1000 장\n",
      "면 => 열무국수 : 1000 장\n",
      "면 => 라면 : 1000 장\n",
      "면 => 비빔냉면 : 1003 장\n",
      "볶음 => 고추장진미채볶음 : 1000 장\n",
      "볶음 => 멸치볶음 : 1000 장\n",
      "볶음 => 떡볶이 : 1000 장\n",
      "볶음 => 제육볶음 : 1001 장\n",
      "볶음 => 소세지볶음 : 1003 장\n",
      "볶음 => 라볶이 : 1000 장\n",
      "볶음 => 건새우볶음 : 1000 장\n",
      "볶음 => 두부김치 : 1000 장\n",
      "볶음 => 주꾸미볶음 : 1002 장\n",
      "볶음 => 감자채볶음 : 1000 장\n",
      "볶음 => 어묵볶음 : 1001 장\n",
      "볶음 => 오징어채볶음 : 1083 장\n",
      "장 => 간장게장 : 1001 장\n",
      "장 => 양념게장 : 1000 장\n",
      "탕 => 감자탕 : 1003 장\n",
      "탕 => 매운탕 : 1002 장\n",
      "탕 => 곰탕_설렁탕 : 1002 장\n",
      "탕 => 추어탕 : 1003 장\n",
      "탕 => 갈비탕 : 1000 장\n",
      "탕 => 삼계탕 : 1003 장\n",
      "나물 => 애호박볶음 : 1000 장\n",
      "나물 => 고사리나물 : 1000 장\n",
      "나물 => 시금치나물 : 1000 장\n",
      "나물 => 가지볶음 : 1000 장\n",
      "나물 => 숙주나물 : 1000 장\n",
      "나물 => 미역줄기볶음 : 1000 장\n"
     ]
    }
   ],
   "source": [
    "for main_class in os.listdir('../cropped_kfood/'):\n",
    "    for sub_class in os.listdir('../cropped_kfood/'+main_class):\n",
    "        print('{} => {} : '.format(main_class, sub_class), end='')\n",
    "        print(len(glob('../cropped_kfood/'+main_class+'/'+sub_class+'/*')), '장')"
   ]
  },
  {
   "cell_type": "code",
   "execution_count": null,
   "metadata": {},
   "outputs": [],
   "source": []
  }
 ],
 "metadata": {
  "kernelspec": {
   "display_name": "aiffel",
   "language": "python",
   "name": "aiffel"
  },
  "language_info": {
   "codemirror_mode": {
    "name": "ipython",
    "version": 3
   },
   "file_extension": ".py",
   "mimetype": "text/x-python",
   "name": "python",
   "nbconvert_exporter": "python",
   "pygments_lexer": "ipython3",
   "version": "3.7.6"
  }
 },
 "nbformat": 4,
 "nbformat_minor": 4
}
